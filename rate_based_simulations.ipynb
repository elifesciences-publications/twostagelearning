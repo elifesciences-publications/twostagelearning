{
 "cells": [
  {
   "cell_type": "markdown",
   "metadata": {},
   "source": [
    "# Testing tutor-student matching with rate-based simulations"
   ]
  },
  {
   "cell_type": "code",
   "execution_count": null,
   "metadata": {
    "collapsed": false
   },
   "outputs": [],
   "source": [
    "%matplotlib inline\n",
    "import matplotlib as mpl\n",
    "import matplotlib.ticker as mtick\n",
    "import matplotlib.pyplot as plt\n",
    "import seaborn as sns\n",
    "sns.set_style('white')\n",
    "\n",
    "plt.rc('text', usetex=True)\n",
    "plt.rc('font', family='serif', serif='cm')\n",
    "\n",
    "plt.rcParams['figure.titlesize'] = 10\n",
    "plt.rcParams['axes.labelsize'] = 8\n",
    "plt.rcParams['axes.titlesize'] = 10\n",
    "plt.rcParams['xtick.labelsize'] = 8\n",
    "plt.rcParams['ytick.labelsize'] = 8\n",
    "plt.rcParams['axes.labelpad'] = 3.0\n",
    "\n",
    "from IPython.display import display, clear_output\n",
    "from ipywidgets import FloatProgress\n",
    "\n",
    "# comment out the next line if not working on a retina-display computer\n",
    "import IPython\n",
    "IPython.display.set_matplotlib_formats('retina')"
   ]
  },
  {
   "cell_type": "code",
   "execution_count": null,
   "metadata": {
    "collapsed": true
   },
   "outputs": [],
   "source": [
    "import numpy as np\n",
    "import copy\n",
    "import time\n",
    "import os\n",
    "import cPickle as pickle"
   ]
  },
  {
   "cell_type": "code",
   "execution_count": null,
   "metadata": {
    "collapsed": true
   },
   "outputs": [],
   "source": [
    "import simulation\n",
    "from basic_defs import *\n",
    "from helpers import *"
   ]
  },
  {
   "cell_type": "markdown",
   "metadata": {},
   "source": [
    "# Define target motor programs"
   ]
  },
  {
   "cell_type": "code",
   "execution_count": null,
   "metadata": {
    "collapsed": false
   },
   "outputs": [],
   "source": [
    "tmax = 600.0                  # duration of motor program (ms)\n",
    "dt = 1.0                      # simulation timestep (ms)\n",
    "\n",
    "nsteps = int(tmax/dt)\n",
    "times = np.arange(0, tmax, dt)"
   ]
  },
  {
   "cell_type": "code",
   "execution_count": null,
   "metadata": {
    "collapsed": false
   },
   "outputs": [],
   "source": [
    "# add some noise, but keep things reproducible\n",
    "np.random.seed(0)\n",
    "target_complex = 100.0*np.vstack((\n",
    "            np.convolve(np.sin(times/100 + 0.1*np.random.randn(len(times)))**6 +\n",
    "                      np.cos(times/150 + 0.2*np.random.randn(len(times)) + np.random.randn())**4,\n",
    "                  np.exp(-0.5*np.linspace(-3.0, 3.0, 200)**2)/np.sqrt(2*np.pi)/80, mode='same'),\n",
    "            np.convolve(np.sin(times/110 + 0.15*np.random.randn(len(times)) + np.pi/3)**6 +\n",
    "                      np.cos(times/100 + 0.2*np.random.randn(len(times)) + np.random.randn())**4,\n",
    "                  np.exp(-0.5*np.linspace(-3.0, 3.0, 200)**2)/np.sqrt(2*np.pi)/80, mode='same'),\n",
    "        ))"
   ]
  },
  {
   "cell_type": "code",
   "execution_count": null,
   "metadata": {
    "collapsed": true
   },
   "outputs": [],
   "source": [
    "# or start with something simple: constant target\n",
    "target_const = np.vstack((70.0*np.ones(len(times)), 50.0*np.ones(len(times))))"
   ]
  },
  {
   "cell_type": "code",
   "execution_count": null,
   "metadata": {
    "collapsed": true
   },
   "outputs": [],
   "source": [
    "# or something simple but not trivial: steps\n",
    "target_piece = np.vstack((\n",
    "    np.hstack((20.0*np.ones(len(times)/2), 100.0*np.ones(len(times)/2))),\n",
    "    np.hstack((60.0*np.ones(len(times)/2), 30.0*np.ones(len(times)/2)))))"
   ]
  },
  {
   "cell_type": "code",
   "execution_count": null,
   "metadata": {
    "collapsed": true
   },
   "outputs": [],
   "source": [
    "targets = {'complex': target_complex, 'piece': target_piece, 'constant': target_const}"
   ]
  },
  {
   "cell_type": "markdown",
   "metadata": {},
   "source": [
    "### Choose target"
   ]
  },
  {
   "cell_type": "code",
   "execution_count": null,
   "metadata": {
    "collapsed": true
   },
   "outputs": [],
   "source": [
    "# choose one target\n",
    "target_choice = 'complex'\n",
    "#target_choice = 'constant'"
   ]
  },
  {
   "cell_type": "code",
   "execution_count": null,
   "metadata": {
    "collapsed": false
   },
   "outputs": [],
   "source": [
    "target = copy.copy(targets[target_choice])\n",
    "\n",
    "# make sure the target smoothly goes to zero at the edges\n",
    "# this is to match the spiking simulation, which needs some time to ramp\n",
    "# up in the beginning and time to ramp down at the end\n",
    "edge_duration = 100.0 # ms\n",
    "edge_len = int(edge_duration/dt)\n",
    "tapering_x = np.linspace(0.0, 1.0, edge_len, endpoint=False)\n",
    "tapering = (3 - 2*tapering_x)*tapering_x**2\n",
    "target[:, :edge_len] *= tapering\n",
    "target[:, -edge_len:] *= tapering[::-1]"
   ]
  },
  {
   "cell_type": "markdown",
   "metadata": {},
   "source": [
    "# General definitions"
   ]
  },
  {
   "cell_type": "markdown",
   "metadata": {},
   "source": [
    "Here we define some classes and functions that will be used to run all the simulations we are interested in."
   ]
  },
  {
   "cell_type": "code",
   "execution_count": null,
   "metadata": {
    "collapsed": true
   },
   "outputs": [],
   "source": [
    "class ProgressBar(object):\n",
    "    \n",
    "    \"\"\" A callable that displays a widget progress bar and can also make a plot showing\n",
    "    the learning trace.\n",
    "    \"\"\"\n",
    "    \n",
    "    def __init__(self, simulator, show_graph=True, graph_step=50, max_error=1000):\n",
    "        self.t0 = None\n",
    "        self.float = None\n",
    "        self.show_graph = show_graph\n",
    "        self.graph_step = graph_step\n",
    "        self.simulator = simulator\n",
    "        self.max_error = max_error\n",
    "        self.print_last = True\n",
    "    \n",
    "    def __call__(self, i, n):\n",
    "        t = time.time()\n",
    "        if self.t0 is None:\n",
    "            self.t0 = t\n",
    "        t_diff = t - self.t0\n",
    "        \n",
    "        current_res = self.simulator._current_res\n",
    "        \n",
    "        text = 'step: {} ; time elapsed: {:.1f}s'.format(i, t_diff)\n",
    "        \n",
    "        if len(current_res) > 0:\n",
    "            last_error = current_res[-1]['average_error']\n",
    "            if last_error <= self.max_error:\n",
    "                text += ' ; last error: {:.2f}'.format(last_error)\n",
    "            else:\n",
    "                text += ' ; last error: very large'\n",
    "        if self.float is None:\n",
    "            self.float = FloatProgress(min=0, max=100)\n",
    "            display(self.float)\n",
    "        else:\n",
    "            percentage = min(round(i*100.0/n), 100)\n",
    "            self.float.value = percentage\n",
    "            \n",
    "        self.float.description = text\n",
    "            \n",
    "        if self.show_graph and i % self.graph_step == 0:\n",
    "            crt_res = [_['average_error'] for _ in current_res]\n",
    "            plt.plot(range(len(crt_res)), crt_res, '.-k')\n",
    "            plt.xlim(0, n-1)\n",
    "            plt.xlabel('repetition')\n",
    "            plt.ylabel('error')\n",
    "\n",
    "            if len(crt_res) > 0:\n",
    "                if i < 100:\n",
    "                    plt.ylim(np.min(crt_res) - 0.1, np.max(crt_res) + 0.1)\n",
    "                else:\n",
    "                    plt.ylim(0, np.max(crt_res))\n",
    "            else:\n",
    "                plt.ylim(0, 1)\n",
    "\n",
    "            clear_output(wait=True)\n",
    "            if i < n:\n",
    "                display(plt.gcf())\n",
    "        \n",
    "        if i == n:\n",
    "            self.float.close()\n",
    "            if self.print_last:\n",
    "                print(text)"
   ]
  },
  {
   "cell_type": "code",
   "execution_count": null,
   "metadata": {
    "collapsed": false
   },
   "outputs": [],
   "source": [
    "# this defines the basic class used for running the rate-based simulations\n",
    "\n",
    "class RateLearningSimulation(object):\n",
    "    \n",
    "    \"\"\" A class that runs the rate-based simulation for several learning cycles. \"\"\"\n",
    "    \n",
    "    def __init__(self, target, tmax, dt, n_conductor, n_student_per_output,\n",
    "                           relaxation=400.0, relaxation_conductor=25.0,\n",
    "                           tracker_generator=None, snapshot_generator=None,\n",
    "                           conductor_burst_length=None,\n",
    "                           conductor_from_table=None,\n",
    "                           controller_mode='sum', controller_tau=25.0,\n",
    "                           controller_mismatch_type='random', controller_mismatch_amount=0,\n",
    "                           controller_error_map_function=None,\n",
    "                           controller_mismatch_subdivide_by=1,\n",
    "                           controller_nonlinearity=None,\n",
    "                           tutor_rule_type='blackbox', tutor_rule_tau=0.0,\n",
    "                           tutor_rule_gain=None, tutor_rule_gain_per_student=0.5,\n",
    "                           tutor_rule_compress_rates=False,\n",
    "                           tutor_rule_min_rate=0.0, tutor_rule_max_rate=160.0,\n",
    "                           cs_weights_type='lognormal', cs_weights_params=(-3.57, 0.54),\n",
    "                           cs_weights_scale=1.0, ts_weights=0.02,\n",
    "                           plasticity_type='2exp',\n",
    "                           plasticity_learning_rate=0.002, plasticity_params=(1.0, 0.0),\n",
    "                           plasticity_taus=(80.0, 40.0), plasticity_constrain_positive=False):\n",
    "        \"\"\" Run the simulation for several learning cycles.\n",
    "\n",
    "        Arguments\n",
    "        ---------\n",
    "          target: array (shape (Nmuscles, Nsteps))\n",
    "              Target output program.\n",
    "          tmax:\n",
    "          dt: float\n",
    "              Length and granularity of target program. `tmax` should be equal to `Nsteps * dt`,\n",
    "              where `Nsteps` is the number of columns of the `target` (see above).\n",
    "          n_conductor: int\n",
    "              Number of conductor neurons.\n",
    "          n_student_per_output: int\n",
    "              Number of student neurons per output channel. If `controller_mode` is not 'pushpull',\n",
    "              the actual number of student neurons is `n_student_per_output * Nmuscles`, where\n",
    "              `Nmuscles` is the number of rows of `target` (see above). If `controller_mode` is\n",
    "              `pushpull`, this is further multiplied by 2.\n",
    "          relaxation: float\n",
    "              Length of time that the simulation runs past the end of the `target`. This ensures\n",
    "              that all the contributions from the plasticity rule are considered.\n",
    "          relaxation_conductor: float\n",
    "              Length of time that the conductor fires past the end of the `target`. This is to avoid\n",
    "              excessive decay at the end of the program.\n",
    "          tracker_generator: callable\n",
    "              This function is called before every simulation run with the signature\n",
    "                  `tracker_generator(simulator, i n)`\n",
    "              where `simulator` is the object running the simulations (i.e., `self`), `i` is the\n",
    "              index of the current learning cycle, and `n` is the total number of learning cycles\n",
    "              that will be simulated. The function should return a dictionary of objects such as\n",
    "              `StateMonitor`s and `EventMonitor`s that track the system during the simulation.\n",
    "              These objects will be returned in the results output structure after the run (see\n",
    "              the `run` method).\n",
    "          snapshot_generator: callable\n",
    "              This can be a function or a pair of functions. If it is a single function, it is called\n",
    "              before every simulation run with the signature\n",
    "                  `snapshot_generator(simulator, i n)`\n",
    "              where `simulator` is the object running the simulations (i.e., `self`), `i` is the\n",
    "              index of the current learning cycle, and `n` is the total number of learning cycles\n",
    "              that will be simulated. The function should return a dictionary that will be appended\n",
    "              directly to the results output structure after the run (see the `run` method). This can\n",
    "              be used to make snapshots of various structures, such as the conductor--student weights,\n",
    "              during learning.\n",
    "              \n",
    "              When this is a pair, both elements should be functions with the same signature as shown\n",
    "              above (or `None`). The first will be called before the simulation run, and the second\n",
    "              after.\n",
    "          conductor_burst_length: float, or None\n",
    "              Duration of conductor bursts. Set to `None` to have the next burst start where the previous\n",
    "              one ends.\n",
    "          conductor_from_table: None, or matrix (n_conductor x n_time_slices)\n",
    "              If not `None`, instead of using the `RateHVCLayer`, use the given table for the outputs\n",
    "              of conductor neurons as a function of time. Each column of the table corresponds to one\n",
    "              time 'slice', which has length given by `conductor_burst_length` (in ms).\n",
    "          controller_mode: str\n",
    "              The way in which the student--output weights should be initialized. This can be 'sum' or\n",
    "              'pushpull' (see `LinearController.__init__` for details).\n",
    "          controller_tau: float\n",
    "              Timescale for smoothing of output.\n",
    "          controller_mismatch_type: str\n",
    "              Method used to simulate credit assignment mismatch. Only possible option for now is\n",
    "              'random'.\n",
    "          controller_mismatch_amount: float\n",
    "              Fraction of student neurons whose output assignment is mismatched when the motor error\n",
    "              calculation is performed (this is used by the blackbox tutor rule).\n",
    "          controller_mismatch_subdivide_by: int\n",
    "              Number of subdivisions for each controller channel when performing the random mismatch.\n",
    "              Assignments between different subgroups can get shuffled as if they belonged to\n",
    "              different outputs.\n",
    "          controller_error_map_function: None, or function\n",
    "              If not `None`, use a (nonlinear) function to map the motor error into source error. This\n",
    "              can be used to handle non-quadratic loss functions (see `LinearController`).\n",
    "          controller_nonlinearity: None, or function\n",
    "              If not `None`, use a (nonlinear) function to map the weighted input to the output. This\n",
    "              can be used to implement linear-nonlinear controllers (see `LinearController`).\n",
    "          tutor_rule_type: str\n",
    "              Type of tutor rule to use. Currently this should be set to 'blackbox'.\n",
    "          tutor_rule_tau: float\n",
    "              Integration timescale for tutor signal (see `BlackboxTutorRule`).\n",
    "          tutor_rule_gain: float, or `None`\n",
    "              If not `None`, sets the gain for the blackbox tutor rule (see `BlackboxTutorRule`).\n",
    "              Either this or `tutor_rule_gain_per_student` should be non-`None`. \n",
    "          tutor_rule_gain_per_student: float, or `None`\n",
    "              If not `None`, the gain for the blackbox tutor rule (see `BlackboxTutorRule`) is set\n",
    "              proportional to the number of student neurons per output channel, `n_student_per_channel`.\n",
    "          tutor_rule_compress_rates: bool\n",
    "              Sets the `compress_rates` option for the blacktox tutor rule (see `BlackboxTutorRule`).\n",
    "          tutor_rule_min_rate: float\n",
    "          tutor_rule_max_rate: float\n",
    "              Sets the minimum and maximum rate for the tutor rule (see `BlackboxTutorRule`).\n",
    "          cs_weights_type: str\n",
    "          cs_weights_params:\n",
    "              Sets the way in which the conductor--student weights should be initialized. This can be\n",
    "                'zero':       set the weights to zero\n",
    "                'constant':   set all the weights equal to `cs_weights_params`\n",
    "                'normal':     use Gaussian random variables, parameters (mean, st.dev.) given by\n",
    "                              `cs_weights_params`\n",
    "                'lognormal':  use log-normal random variables, parameters (mu, sigma) given by\n",
    "                              `cs_weights_params`\n",
    "          cs_weights_scale: float\n",
    "              Set a scaling factor for all the conductor--student weights. This is applied after the\n",
    "              weights are calculated according to `cs_weights_type` and `cs_weights_params`.\n",
    "          ts_weights: float\n",
    "              The value of the tutor--student synaptic strength.\n",
    "          plasticity_type: str\n",
    "              Type of plasticity rule to use:\n",
    "                '2exp':     use `TwoExponentialsPlasticity`\n",
    "                'exp_texp': use `SuperExponentialPlasticity`\n",
    "          plasticity_learning_rate: float\n",
    "              The learning rate of the plasticity rule (see `TwoExponentialsPlasticity`).\n",
    "          plasticity_params: (alpha, beta)\n",
    "              The parameters used by the plasticity rule (see `TwoExponentialsPlasticity`).\n",
    "          plasticity_taus: (tau1, tau2)\n",
    "              The timescales used by the plasticity rule (see `TwoExponentialsPlasticity`).\n",
    "          plasticity_constrain_positive: bool\n",
    "              Whether to keep conductor--student weights non-negative or not\n",
    "              (see `TwoExponentialsPlasticity`).\n",
    "        \"\"\"\n",
    "        self.target = np.asarray(target)\n",
    "        self.tmax = float(tmax)\n",
    "        self.dt = float(dt)\n",
    "        \n",
    "        self.n_muscles = len(self.target)\n",
    "        \n",
    "        self.n_conductor = n_conductor\n",
    "        self.n_student_per_output = n_student_per_output\n",
    "        \n",
    "        self.relaxation = relaxation\n",
    "        self.relaxation_conductor = relaxation_conductor\n",
    "        \n",
    "        self.tracker_generator = tracker_generator\n",
    "        self.snapshot_generator = snapshot_generator\n",
    "        \n",
    "        if not hasattr(self.snapshot_generator, '__len__'):\n",
    "            self.snapshot_generator = (self.snapshot_generator, None)\n",
    "        \n",
    "        self.conductor_burst_length = conductor_burst_length\n",
    "        self.conductor_from_table = conductor_from_table\n",
    "        \n",
    "        self.controller_mode = controller_mode\n",
    "        self.controller_tau = controller_tau\n",
    "        self.controller_mismatch_type = controller_mismatch_type\n",
    "        self.controller_mismatch_amount = controller_mismatch_amount\n",
    "        self.controller_mismatch_subdivide_by = controller_mismatch_subdivide_by\n",
    "        self.controller_error_map_function = controller_error_map_function\n",
    "        self.controller_nonlinearity = controller_nonlinearity\n",
    "        \n",
    "        self.tutor_rule_type = tutor_rule_type\n",
    "        self.tutor_rule_tau = tutor_rule_tau\n",
    "        self.tutor_rule_gain = tutor_rule_gain\n",
    "        self.tutor_rule_gain_per_student = tutor_rule_gain_per_student\n",
    "        \n",
    "        self.tutor_rule_compress_rates = tutor_rule_compress_rates\n",
    "        self.tutor_rule_min_rate = tutor_rule_min_rate\n",
    "        self.tutor_rule_max_rate = tutor_rule_max_rate\n",
    "        \n",
    "        self.cs_weights_type = cs_weights_type\n",
    "        self.cs_weights_params = cs_weights_params\n",
    "        self.cs_weights_scale = cs_weights_scale\n",
    "        \n",
    "        self.ts_weights = ts_weights\n",
    "        \n",
    "        self.plasticity_type = plasticity_type\n",
    "        self.plasticity_learning_rate = plasticity_learning_rate\n",
    "        self.plasticity_params = plasticity_params\n",
    "        self.plasticity_taus = plasticity_taus\n",
    "        self.plasticity_constrain_positive = plasticity_constrain_positive\n",
    "        \n",
    "        self.progress_indicator = ProgressBar(self)\n",
    "        \n",
    "        self.setup()\n",
    "    \n",
    "    def setup(self):\n",
    "        \"\"\" Create the components of the simulation. \"\"\"\n",
    "        # process some of the options\n",
    "        self.n_student = self.n_student_per_output*self.n_muscles\n",
    "        \n",
    "        if self.controller_mode == 'pushpull':\n",
    "            self.n_student *= 2\n",
    "        \n",
    "        if self.tutor_rule_gain is None:\n",
    "            self.tutor_rule_actual_gain = self.tutor_rule_gain_per_student*self.n_student_per_output\n",
    "        else:\n",
    "            self.tutor_rule_actual_gain = self.tutor_rule_gain\n",
    "        \n",
    "        self.total_time = self.tmax + self.relaxation\n",
    "        self.stimes = np.arange(0, self.total_time, self.dt)\n",
    "        \n",
    "        self._current_res = []\n",
    "        \n",
    "        # build components\n",
    "        if self.conductor_from_table is None:\n",
    "            self.conductor = RateHVCLayer(self.n_conductor, burst_tmax=self.tmax+self.relaxation_conductor,\n",
    "                                          burst_length=self.conductor_burst_length)\n",
    "        else:\n",
    "            rep_count = (1 if self.conductor_burst_length is None else\n",
    "                         int_r(self.conductor_burst_length/self.dt))\n",
    "            table = np.repeat(self.conductor_from_table, rep_count, axis=1)\n",
    "            self.conductor = TableLayer(table)\n",
    "            \n",
    "        self.student = RateLayer(self.n_student)\n",
    "        self.motor = LinearController(self.student, self.target,\n",
    "                                      mode=self.controller_mode, tau=self.controller_tau)\n",
    "        if self.controller_mismatch_amount > 0:\n",
    "            if self.controller_mismatch_type != 'random':\n",
    "                raise Exception('Unknown controller_mismatch_type '+\n",
    "                                str(self.controller_mismatch_type) + '.')\n",
    "            self.motor.set_random_permute_inverse(self.controller_mismatch_amount,\n",
    "                                                  subdivide_by=self.controller_mismatch_subdivide_by)\n",
    "        self.motor.error_map_fct = self.controller_error_map_function\n",
    "        self.motor.nonlinearity = self.controller_nonlinearity\n",
    "        \n",
    "        if self.tutor_rule_type != 'blackbox':\n",
    "            raise Exception('Unknown tutor_rule_type ' + str(self.tutor_rule_type) + '.')\n",
    "        \n",
    "        self.tutor_rule = BlackboxTutorRule(self.motor, tau=self.tutor_rule_tau,\n",
    "                                            gain=self.tutor_rule_actual_gain,\n",
    "                                            compress_rates=self.tutor_rule_compress_rates,\n",
    "                                            min_rate=self.tutor_rule_min_rate,\n",
    "                                            max_rate=self.tutor_rule_max_rate)\n",
    "        # the blackbox tutor rule will wind down its activity during relaxation time\n",
    "        self.tutor_rule.relaxation = self.relaxation\n",
    "\n",
    "        # add synapses to student\n",
    "        self.student.add_source(self.conductor)\n",
    "        self.student.add_source(self.tutor_rule)\n",
    "        \n",
    "        # generate the conductor--student weights\n",
    "        self.init_cs_weights()\n",
    "        \n",
    "        # set tutor--student weights\n",
    "        self.student.Ws[1] = self.ts_weights*np.ones(self.n_student)\n",
    "        self.student.bias = -self.ts_weights*(self.tutor_rule_min_rate + self.tutor_rule_max_rate)/2.0\n",
    "        \n",
    "        # initialize the plasiticity rule\n",
    "        if self.plasticity_type == '2exp':\n",
    "            self.plasticity = TwoExponentialsPlasticity(\n",
    "                (self.conductor, self.student, self.student.Ws[0]), self.tutor_rule,\n",
    "                rate=self.plasticity_learning_rate,\n",
    "                alpha=self.plasticity_params[0], beta=self.plasticity_params[1],\n",
    "                tau1=self.plasticity_taus[0], tau2=self.plasticity_taus[1],\n",
    "                constrain_positive=self.plasticity_constrain_positive)\n",
    "        elif self.plasticity_type == 'exp_texp':\n",
    "            self.plasticity = SuperExponentialPlasticity(\n",
    "                (self.conductor, self.student, self.student.Ws[0]), self.tutor_rule,\n",
    "                rate=self.plasticity_learning_rate,\n",
    "                alpha=self.plasticity_params[0], beta=self.plasticity_params[1],\n",
    "                tau1=self.plasticity_taus[0], tau2=self.plasticity_taus[1],\n",
    "                constrain_positive=self.plasticity_constrain_positive)\n",
    "        else:\n",
    "            raise Exception('Unknown plasticity_type ' + str(self.plasticity_type) + '.')\n",
    "\n",
    "    def init_cs_weights(self):\n",
    "        \"\"\" Initialize conductor--student weights. \"\"\"\n",
    "        if self.cs_weights_type == 'zero':\n",
    "            self.student.Ws[0] = np.zeros((self.n_student, self.n_conductor))\n",
    "        elif self.cs_weights_type == 'constant':\n",
    "            self.student.Ws[0] = self.cs_weights_params*np.ones((self.n_student, self.n_conductor))\n",
    "        elif self.cs_weights_type == 'normal':\n",
    "            self.student.Ws[0] = (self.cs_weights_params[0] +\n",
    "                                  self.cs_weights_params[1]*np.random.randn(self.n_student, self.n_conductor))\n",
    "        elif self.cs_weights_type == 'lognormal':\n",
    "            self.student.Ws[0] = np.random.lognormal(*self.cs_weights_params,\n",
    "                                                     size=(self.n_student, self.n_conductor))\n",
    "        \n",
    "        self.student.Ws[0] *= self.cs_weights_scale\n",
    "\n",
    "    def run(self, n_runs):\n",
    "        \"\"\" Run the simulation for `n_runs` learning cycles.\n",
    "        \n",
    "        This function intercepts `KeyboardInterrupt` exceptions and returns the results up to\n",
    "        the time of the keyboard intercept.\n",
    "        \"\"\"\n",
    "        res = []\n",
    "        \n",
    "        self._current_res = res\n",
    "                \n",
    "        try:\n",
    "            for i in xrange(n_runs):\n",
    "                if self.progress_indicator is not None:\n",
    "                    self.progress_indicator(i, n_runs)\n",
    "                \n",
    "                # make the pre-run snapshots\n",
    "                if self.snapshot_generator[0] is not None:\n",
    "                    snaps_pre = self.snapshot_generator[0](self, i, n_runs)\n",
    "                else:\n",
    "                    snaps_pre = {}\n",
    "                \n",
    "                # get the trackers\n",
    "                if self.tracker_generator is not None:\n",
    "                    trackers = self.tracker_generator(self, i, n_runs)\n",
    "                    if trackers is None:\n",
    "                        trackers = {}\n",
    "                else:\n",
    "                    trackers = {}\n",
    "                                \n",
    "                # no matter what, we will need an error tracker to calculate average error\n",
    "                M_merr = MotorErrorTracker(self.motor)\n",
    "                \n",
    "                # create and run the simulation\n",
    "                sim = simulation.Simulation(self.conductor, self.student, self.tutor_rule,\n",
    "                                            self.motor, self.plasticity,\n",
    "                                            M_merr, *trackers.values(), dt=self.dt)\n",
    "                sim.run(self.total_time)\n",
    "                \n",
    "                # make the post-run snapshots\n",
    "                if self.snapshot_generator[1] is not None:\n",
    "                    snaps_post = self.snapshot_generator[1](self, i, n_runs)\n",
    "                else:\n",
    "                    snaps_post = {}\n",
    "                \n",
    "                crt_res = {'average_error': np.mean(M_merr.overall_error)}\n",
    "                crt_res.update(snaps_pre)\n",
    "                crt_res.update(snaps_post)\n",
    "                crt_res.update(trackers)\n",
    "                \n",
    "                res.append(crt_res)\n",
    "                \n",
    "            if self.progress_indicator is not None:\n",
    "                self.progress_indicator(n_runs, n_runs)\n",
    "        except KeyboardInterrupt:\n",
    "            pass\n",
    "        \n",
    "        return res"
   ]
  },
  {
   "cell_type": "code",
   "execution_count": null,
   "metadata": {
    "collapsed": true
   },
   "outputs": [],
   "source": [
    "# sometimes we need to run a set of simulations in which some parameters change\n",
    "\n",
    "def simulate_many(constant_params, variable_params):\n",
    "    \"\"\" Run a set of simulations.\n",
    "    \n",
    "    Note that each run must have 'target', 'tmax', 'dt', and 'nreps' entries in the dictionary,\n",
    "    either coming from `constant_params` or from `variable_params`. The special entries\n",
    "    'graph_step' and 'show_graph' can be used to control the progress indicator for the\n",
    "    `RateLearningSimulation`s.\n",
    "    \n",
    "    Arguments\n",
    "    ---------\n",
    "      constant_params: dict\n",
    "          Dictionary holding those parameters that are constant for all simulations.\n",
    "      variable_params: array of dict\n",
    "          Array of dictionary holding the parameters that change between different simulations.\n",
    "          This can have any number of dimensions, and the output will match its shape.\n",
    "    \n",
    "    Returns\n",
    "    -------\n",
    "      res_array: array of dict\n",
    "          Array of results for each of the simulations. Each dict has to entries,\n",
    "            'params':       a dictionary of containing all the parameters for the simulation\n",
    "            'trace':        the data resulting from that simulation, as returned by the \n",
    "                            `RateLearningSimulation` object\n",
    "            'error_trace':  the error trace (the 'average_error' values for all the entries in\n",
    "                            `trace`)\n",
    "          This has the same shape as the `variable_params` argument.\n",
    "    \"\"\"    \n",
    "    # initialize the output\n",
    "    variable_params = np.asarray(variable_params)\n",
    "    res_array = np.empty(np.shape(variable_params), dtype='object')\n",
    "    \n",
    "    n_sims = np.size(variable_params)\n",
    "    \n",
    "    # display a progress bar\n",
    "    t0 = time.time()\n",
    "    bar = FloatProgress(min=0, max=100)\n",
    "    display(bar)\n",
    "    \n",
    "    # process the data\n",
    "    for i in xrange(n_sims):\n",
    "        t = time.time()\n",
    "        t_diff = t - t0\n",
    "        \n",
    "        text = 'simulation #{} ; time elapsed: {:.1f}s'.format(i, t_diff)\n",
    "        \n",
    "        percentage = min(round(i*100.0/n_sims), 100)\n",
    "        bar.value = percentage \n",
    "        bar.description = text\n",
    "        \n",
    "        current_params = dict(constant_params)\n",
    "        current_params.update(variable_params.ravel()[i])\n",
    "        \n",
    "        current_target = current_params.pop('target')\n",
    "        current_tmax = current_params.pop('tmax')\n",
    "        current_dt = current_params.pop('dt')\n",
    "        current_n_reps = current_params.pop('n_reps')\n",
    "        \n",
    "        current_graph_step = current_params.pop('graph_step', 50)\n",
    "        current_show_graph = current_params.pop('show_graph', True)\n",
    "        \n",
    "        clear_output(wait=True)\n",
    "        plt.clf()\n",
    "        \n",
    "        current_sim = RateLearningSimulation(\n",
    "            current_target, current_tmax, current_dt, **current_params)\n",
    "        current_sim.progress_indicator.graph_step = current_graph_step\n",
    "        current_sim.progress_indicator.show_graph = current_show_graph\n",
    "        current_sim.progress_indicator.print_last = False\n",
    "        \n",
    "        current_res = current_sim.run(current_n_reps)\n",
    "        \n",
    "        # don't keep the functions in the parameters\n",
    "        current_params.pop('tracker_generator', None)\n",
    "        current_params.pop('snapshot_generator', None)\n",
    "        \n",
    "        # re-add n_reps, tmax, and dt; not target, because that can be too big\n",
    "        current_params['tmax'] = current_tmax\n",
    "        current_params['dt'] = current_dt\n",
    "        current_params['n_reps'] = current_n_reps\n",
    "        \n",
    "        current_details = {\n",
    "            'params': current_params,\n",
    "            'trace': current_res,\n",
    "            'error_trace': np.asarray([_['average_error'] for _ in current_res])}\n",
    "        \n",
    "        res_array.ravel()[i] = current_details\n",
    "        \n",
    "    bar.value = 100.0\n",
    "    t = time.time()\n",
    "    t_diff = t - t0\n",
    "\n",
    "    bar.description = 'simulation done ; time elapsed: {:.1f}s'.format(t_diff)\n",
    "    \n",
    "    return res_array"
   ]
  },
  {
   "cell_type": "code",
   "execution_count": null,
   "metadata": {
    "collapsed": true
   },
   "outputs": [],
   "source": [
    "# tracker functions that will be used throughout the code\n",
    "\n",
    "def tracker_generator(simulator, i, n):\n",
    "    \"\"\" Generate some trackers. \"\"\"\n",
    "    res = {}\n",
    "    res['motor'] = simulation.StateMonitor(simulator.motor, 'out')\n",
    "    res['tutor'] = simulation.StateMonitor(simulator.tutor_rule, 'out')\n",
    "    res['conductor'] = simulation.StateMonitor(simulator.conductor, 'out')\n",
    "    res['student'] = simulation.StateMonitor(simulator.student, 'out')\n",
    "    \n",
    "    return res\n",
    "\n",
    "def snapshot_generator_pre(simulator, i, n):\n",
    "    \"\"\" Generate some pre-run snapshots. \"\"\"\n",
    "    res = {}\n",
    "    res['weights'] = np.copy(simulator.student.Ws[0])\n",
    "    \n",
    "    return res"
   ]
  },
  {
   "cell_type": "markdown",
   "metadata": {},
   "source": [
    "# Create the data for the mismatch matrix"
   ]
  },
  {
   "cell_type": "markdown",
   "metadata": {},
   "source": [
    "## Some generic code"
   ]
  },
  {
   "cell_type": "markdown",
   "metadata": {},
   "source": [
    "We first define a function that can calculate this for a variety of conditions, such as 'sum' or 'push pull' motor controllers, constraining conductor--student weights to be positive, *etc.* Then we use this function for all the cases of interest."
   ]
  },
  {
   "cell_type": "code",
   "execution_count": null,
   "metadata": {
    "collapsed": false
   },
   "outputs": [],
   "source": [
    "def generate_mismatch_data(tau_levels, n_reps, target, tmax, dt, **params):\n",
    "    \"\"\" Generate a matrix of results showing the effect of tutor-student mismatch.\n",
    "    \n",
    "    The extra arguments give a dictionary of parameters that override the defaults. These are assumed\n",
    "    to be constant over all the simulations. Here the plasticity parameters are constrained\n",
    "    such that $alpha - beta = 1$.\n",
    "    \"\"\"\n",
    "    # this is all we're tracking\n",
    "    def tracker_generator(simulator, i, n):\n",
    "        \"\"\" Generate some trackers. \"\"\"\n",
    "        res = {}\n",
    "        res['motor'] = simulation.StateMonitor(simulator.motor, 'out')\n",
    "    \n",
    "        return res\n",
    "    \n",
    "    def snapshot_generator(simulator, i, n):\n",
    "        res = {}\n",
    "        res['weights'] = np.copy(simulator.student.Ws[0])\n",
    "        \n",
    "        return res\n",
    "    \n",
    "    # update the default parameters using the arguments\n",
    "    default_params = dict(\n",
    "        show_graph=False,\n",
    "        n_conductor=100, n_student_per_output=1,\n",
    "        relaxation=400.0, relaxation_conductor=25.0,\n",
    "        conductor_burst_length=None, controller_mode='sum', controller_tau=25.0,\n",
    "        tutor_rule_gain_per_student=0.5, tutor_rule_compress_rates=False,\n",
    "        tutor_rule_min_rate=0.0, tutor_rule_max_rate=160.0,\n",
    "        cs_weights_type='lognormal', cs_weights_params=(-3.57, 0.54), cs_weights_scale=200.0,\n",
    "        ts_weights=0.01,\n",
    "        plasticity_learning_rate=0.001,\n",
    "        plasticity_taus=(80.0, 40.0),\n",
    "        plasticity_constrain_positive=False,\n",
    "        tracker_generator=tracker_generator,\n",
    "        snapshot_generator=snapshot_generator\n",
    "    )\n",
    "    actual_params = dict(default_params)\n",
    "    actual_params.update(params)\n",
    "\n",
    "    # calculate the plasticity parameters for each tau\n",
    "    tau1, tau2 = actual_params['plasticity_taus']\n",
    "    \n",
    "    # fix alpha - beta = 1\n",
    "    plasticity_levels = [(lambda _: (_, _-1))(float(tau - tau2)/(tau1 - tau2)) for tau in tau_levels]\n",
    "        \n",
    "    actual_params['target'] = target\n",
    "    actual_params['tmax'] = tmax\n",
    "    actual_params['dt'] = dt\n",
    "    actual_params['n_reps'] = n_reps\n",
    "    \n",
    "    n_levels = len(tau_levels)\n",
    "    return simulate_many(\n",
    "        actual_params,\n",
    "        [[dict(\n",
    "                tutor_rule_tau=current_tau_tutor,\n",
    "                plasticity_params=current_plastic\n",
    "            ) for current_tau_tutor in tau_levels] for current_plastic in plasticity_levels]\n",
    "    )"
   ]
  },
  {
   "cell_type": "markdown",
   "metadata": {},
   "source": [
    "## Generate mismatch matrix for 'sum' controller"
   ]
  },
  {
   "cell_type": "code",
   "execution_count": null,
   "metadata": {
    "collapsed": false
   },
   "outputs": [],
   "source": [
    "# reproducible randomness\n",
    "np.random.seed(23782)\n",
    "\n",
    "res_mismatch = generate_mismatch_data(10*2**np.arange(8), 250, target, tmax, dt)"
   ]
  },
  {
   "cell_type": "code",
   "execution_count": null,
   "metadata": {
    "collapsed": false
   },
   "outputs": [],
   "source": [
    "file_name = 'save/rate_based_results_sum_log_8.pkl'\n",
    "if not os.path.exists(file_name):\n",
    "    with open(file_name, 'wb') as out:\n",
    "        pickle.dump({'res_mismatch': res_mismatch, 'target': target, 'tmax': tmax, 'dt': dt}, out, 2)\n",
    "else:\n",
    "    raise Exception('File exists!')"
   ]
  },
  {
   "cell_type": "markdown",
   "metadata": {},
   "source": [
    "## Generate mismatch matrix for 'pushpull' controller"
   ]
  },
  {
   "cell_type": "code",
   "execution_count": null,
   "metadata": {
    "collapsed": false
   },
   "outputs": [],
   "source": [
    "# reproducible randomness\n",
    "np.random.seed(123134)\n",
    "\n",
    "res_mismatch = generate_mismatch_data(10*2**np.arange(8), 250, target, tmax, dt,\n",
    "                                      controller_mode='pushpull')"
   ]
  },
  {
   "cell_type": "code",
   "execution_count": null,
   "metadata": {
    "collapsed": false
   },
   "outputs": [],
   "source": [
    "file_name = 'save/rate_based_results_pushpull_log_8.pkl'\n",
    "if not os.path.exists(file_name):\n",
    "    with open(file_name, 'wb') as out:\n",
    "        pickle.dump({'res_mismatch': res_mismatch, 'target': target, 'tmax': tmax, 'dt': dt}, out, 2)\n",
    "else:\n",
    "    raise Exception('File exists!')"
   ]
  },
  {
   "cell_type": "markdown",
   "metadata": {},
   "source": [
    "## Generate mismatch matrix when weights are constrained positive"
   ]
  },
  {
   "cell_type": "markdown",
   "metadata": {},
   "source": [
    "With 'sum' controller."
   ]
  },
  {
   "cell_type": "code",
   "execution_count": null,
   "metadata": {
    "collapsed": false
   },
   "outputs": [],
   "source": [
    "# reproducible randomness\n",
    "np.random.seed(34234)\n",
    "\n",
    "res_mismatch = generate_mismatch_data(10*2**np.arange(8), 250, target, tmax, dt,\n",
    "                                      plasticity_constrain_positive=True)"
   ]
  },
  {
   "cell_type": "code",
   "execution_count": null,
   "metadata": {
    "collapsed": false
   },
   "outputs": [],
   "source": [
    "file_name = 'save/rate_based_results_posweights_log_8.pkl'\n",
    "if not os.path.exists(file_name):\n",
    "    with open(file_name, 'wb') as out:\n",
    "        pickle.dump({'res_mismatch': res_mismatch, 'target': target, 'tmax': tmax, 'dt': dt}, out, 2)\n",
    "else:\n",
    "    raise Exception('File exists!')"
   ]
  },
  {
   "cell_type": "markdown",
   "metadata": {},
   "source": [
    "## Generate mismatch matrix when $\\tau_{1,2}$ are small"
   ]
  },
  {
   "cell_type": "code",
   "execution_count": null,
   "metadata": {
    "collapsed": false
   },
   "outputs": [],
   "source": [
    "# reproducible randomness\n",
    "np.random.seed(4324)\n",
    "\n",
    "res_mismatch = generate_mismatch_data(10*2**np.arange(8), 250, target, tmax, dt,\n",
    "                                      plasticity_taus=(20.0, 10.0))"
   ]
  },
  {
   "cell_type": "code",
   "execution_count": null,
   "metadata": {
    "collapsed": false
   },
   "outputs": [],
   "source": [
    "file_name = 'save/rate_based_results_small_tau_log_8.pkl'\n",
    "if not os.path.exists(file_name):\n",
    "    with open(file_name, 'wb') as out:\n",
    "        pickle.dump({'res_mismatch': res_mismatch, 'target': target, 'tmax': tmax, 'dt': dt}, out, 2)\n",
    "else:\n",
    "    raise Exception('File exists!')"
   ]
  },
  {
   "cell_type": "markdown",
   "metadata": {},
   "source": [
    "## Generate mismatch matrix when $\\tau_{1,2}$ are large"
   ]
  },
  {
   "cell_type": "code",
   "execution_count": null,
   "metadata": {
    "collapsed": false
   },
   "outputs": [],
   "source": [
    "# reproducible randomness\n",
    "np.random.seed(76476)\n",
    "\n",
    "res_mismatch = generate_mismatch_data(10*2**np.arange(8), 250, target, tmax, dt,\n",
    "                                      plasticity_taus=(160.0, 80.0))"
   ]
  },
  {
   "cell_type": "code",
   "execution_count": null,
   "metadata": {
    "collapsed": false
   },
   "outputs": [],
   "source": [
    "file_name = 'save/rate_based_results_large_tau_log_8.pkl'\n",
    "if not os.path.exists(file_name):\n",
    "    with open(file_name, 'wb') as out:\n",
    "        pickle.dump({'res_mismatch': res_mismatch, 'target': target, 'tmax': tmax, 'dt': dt}, out, 2)\n",
    "else:\n",
    "    raise Exception('File exists!')"
   ]
  },
  {
   "cell_type": "markdown",
   "metadata": {},
   "source": [
    "# Create credit mis-assignment data"
   ]
  },
  {
   "cell_type": "markdown",
   "metadata": {},
   "source": [
    "## Some generic code for credit mis-assignment"
   ]
  },
  {
   "cell_type": "markdown",
   "metadata": {},
   "source": [
    "We first define a function that can calculate this for a variety of conditions, such as 'sum' or 'push pull' motor controllers, constraining conductor--student weights to be positive, *etc.* Then we use this function for all the cases of interest."
   ]
  },
  {
   "cell_type": "code",
   "execution_count": null,
   "metadata": {
    "collapsed": false
   },
   "outputs": [],
   "source": [
    "def generate_credit_mismatch_data(rho_levels, n_reps, target, tmax, dt, **params):\n",
    "    \"\"\" Generate a vector of results showing the effect of credit assignment mismatch.\n",
    "    \n",
    "    `rho_levels` gives the fraction of student neurons who output assignment will be\n",
    "    mismatched. The output will have the same shape as `rho_levels`. The extra arguments\n",
    "    give a dictionary of parameters that override the defaults. These are assumed to be\n",
    "    constant over all the simulations.\n",
    "    \"\"\"\n",
    "    # this is all we're tracking\n",
    "    def tracker_generator(simulator, i, n):\n",
    "        \"\"\" Generate some trackers. \"\"\"\n",
    "        res = {}\n",
    "        res['motor'] = simulation.StateMonitor(simulator.motor, 'out')\n",
    "    \n",
    "        return res\n",
    "\n",
    "    # update the default parameters using the arguments\n",
    "    default_params = dict(\n",
    "        show_graph=False,\n",
    "        n_conductor=100, n_student_per_output=40,\n",
    "        relaxation=400.0, relaxation_conductor=25.0,\n",
    "        conductor_burst_length=None, controller_mode='sum', controller_tau=25.0,\n",
    "        tutor_rule_gain_per_student=0.5, tutor_rule_compress_rates=False,\n",
    "        tutor_rule_tau=40.0,\n",
    "        tutor_rule_min_rate=0.0, tutor_rule_max_rate=160.0,\n",
    "        cs_weights_type='lognormal', cs_weights_params=(-3.57, 0.54), cs_weights_scale=200.0,\n",
    "        ts_weights=0.01,\n",
    "        plasticity_learning_rate=0.001,\n",
    "        plasticity_taus=(80.0, 40.0),\n",
    "        plasticity_params=(0.0, -1),\n",
    "        plasticity_constrain_positive=False,\n",
    "        tracker_generator=tracker_generator,\n",
    "        snapshot_generator=None\n",
    "    )\n",
    "    actual_params = dict(default_params)\n",
    "    actual_params.update(params)\n",
    "    \n",
    "    actual_params['target'] = target\n",
    "    actual_params['tmax'] = tmax\n",
    "    actual_params['dt'] = dt\n",
    "    actual_params['n_reps'] = n_reps\n",
    "    \n",
    "    return simulate_many(\n",
    "        actual_params,\n",
    "        [dict(\n",
    "                controller_mismatch_amount=current_rho\n",
    "            ) for current_rho in rho_levels]\n",
    "    )"
   ]
  },
  {
   "cell_type": "markdown",
   "metadata": {},
   "source": [
    "## Generate credit mismatch data for 'sum' controller"
   ]
  },
  {
   "cell_type": "code",
   "execution_count": null,
   "metadata": {
    "collapsed": false
   },
   "outputs": [],
   "source": [
    "# reproducible randomness\n",
    "np.random.seed(23872)\n",
    "\n",
    "res_mismatch = generate_credit_mismatch_data(np.arange(0.0, 1.025, 0.025), 250, target, tmax, dt,\n",
    "                                             controller_mode='sum', snapshot_generator=None)"
   ]
  },
  {
   "cell_type": "code",
   "execution_count": null,
   "metadata": {
    "collapsed": false
   },
   "outputs": [],
   "source": [
    "file_name = 'save/rate_based_credit_results_sum.pkl'\n",
    "if not os.path.exists(file_name):\n",
    "    with open(file_name, 'wb') as out:\n",
    "        pickle.dump({'res_mismatch': res_mismatch, 'target': target, 'tmax': tmax, 'dt': dt}, out, 2)\n",
    "else:\n",
    "    raise Exception('File exists!')"
   ]
  },
  {
   "cell_type": "markdown",
   "metadata": {},
   "source": [
    "## Generate credit mismatch data for 'pushpull' controller, no subdivision"
   ]
  },
  {
   "cell_type": "code",
   "execution_count": null,
   "metadata": {
    "collapsed": false
   },
   "outputs": [],
   "source": [
    "# reproducible randomness\n",
    "np.random.seed(8372847)\n",
    "\n",
    "res_mismatch = generate_credit_mismatch_data(np.arange(0.0, 1.025, 0.025), 250, target, tmax, dt,\n",
    "                                             controller_mode='pushpull')"
   ]
  },
  {
   "cell_type": "code",
   "execution_count": null,
   "metadata": {
    "collapsed": false
   },
   "outputs": [],
   "source": [
    "file_name = 'save/rate_based_credit_results_pushpull.pkl'\n",
    "if not os.path.exists(file_name):\n",
    "    with open(file_name, 'wb') as out:\n",
    "        pickle.dump({'res_mismatch': res_mismatch, 'target': target, 'tmax': tmax, 'dt': dt}, out, 2)\n",
    "else:\n",
    "    raise Exception('File exists!')"
   ]
  },
  {
   "cell_type": "markdown",
   "metadata": {},
   "source": [
    "## Generate credit mismatch data for 'pushpull' controller, subdivide by 2"
   ]
  },
  {
   "cell_type": "markdown",
   "metadata": {},
   "source": [
    "Here we allow the excitatory and inhibitory contributions within the same output channel to be mismatched."
   ]
  },
  {
   "cell_type": "code",
   "execution_count": null,
   "metadata": {
    "collapsed": false
   },
   "outputs": [],
   "source": [
    "# reproducible randomness\n",
    "np.random.seed(8372847)\n",
    "\n",
    "res_mismatch = generate_credit_mismatch_data(np.arange(0.0, 1.025, 0.025), 250, target, tmax, dt,\n",
    "                                             controller_mode='pushpull',\n",
    "                                             controller_mismatch_subdivide_by=2)"
   ]
  },
  {
   "cell_type": "code",
   "execution_count": null,
   "metadata": {
    "collapsed": false
   },
   "outputs": [],
   "source": [
    "file_name = 'save/rate_based_credit_results_pushpull_subdiv.pkl'\n",
    "if not os.path.exists(file_name):\n",
    "    with open(file_name, 'wb') as out:\n",
    "        pickle.dump({'res_mismatch': res_mismatch, 'target': target, 'tmax': tmax, 'dt': dt}, out, 2)\n",
    "else:\n",
    "    raise Exception('File exists!')"
   ]
  },
  {
   "cell_type": "markdown",
   "metadata": {},
   "source": [
    "# Make figures"
   ]
  },
  {
   "cell_type": "code",
   "execution_count": null,
   "metadata": {
    "collapsed": true
   },
   "outputs": [],
   "source": [
    "def compare_traces(res1, res2, target, colors=[[0.200, 0.357, 0.400], [0.831, 0.333, 0.000]],\n",
    "                   labels=None, ymax=None, inset_ymax=None,\n",
    "                   inset_label_size=8, inset_legend_pos=(1.1, 1.1)):\n",
    "    \"\"\" Make a plot comparing two convergence traces.\n",
    "    \n",
    "    This shows the evolution of the error in the main plot, and a comparison of the final\n",
    "    output in an inset.\n",
    "    \"\"\"\n",
    "    if labels is None:\n",
    "        labels = [None, None]\n",
    "        \n",
    "    plt.plot([_['average_error'] for _ in res1], c=colors[0], label=labels[0])\n",
    "    plt.plot([_['average_error'] for _ in res2], c=colors[1], label=labels[1])\n",
    "    \n",
    "    plt.xlabel('repetition')\n",
    "    plt.ylabel('error')\n",
    "    \n",
    "    if ymax is not None:\n",
    "        plt.ylim(0, ymax)\n",
    "    else:\n",
    "        plt.ylim(0, plt.ylim()[1])\n",
    "\n",
    "#    if any(_ is not None for _ in labels):\n",
    "#        plt.legend()\n",
    "    \n",
    "    inax = plt.axes([.4, .4, .4, .4])\n",
    "    \n",
    "    motor1 = res1[-1]['motor']\n",
    "    motor2 = res2[-1]['motor']\n",
    "    nsteps = np.shape(target)[1]\n",
    "    times = motor1.t[:nsteps]\n",
    "    inax.plot(times, target[0], ':k', lw=4, label='target')\n",
    "    \n",
    "    inax.spines['right'].set_color('none')\n",
    "    inax.spines['top'].set_color('none')\n",
    "    \n",
    "    inax.plot(times, motor1.out[0, :nsteps], c=colors[0], label=labels[0])\n",
    "    inax.plot(times, motor2.out[0, :nsteps], c=colors[1], label=labels[1])\n",
    "    \n",
    "    inax.set_xlabel('time')\n",
    "    inax.set_ylabel('output')\n",
    "    \n",
    "    inax.set_xticks([])\n",
    "    inax.set_yticks([])\n",
    "    \n",
    "    if any(_ is not None for _ in labels):\n",
    "        inax.legend(bbox_to_anchor=inset_legend_pos, fontsize=inset_label_size)\n",
    "    \n",
    "    if inset_ymax is None:\n",
    "        inax.set_ylim(0, inax.get_ylim()[1])\n",
    "    else:\n",
    "        inax.set_ylim(0, inset_ymax)"
   ]
  },
  {
   "cell_type": "markdown",
   "metadata": {},
   "source": [
    "## Tutor-student mismatch heatmap and convergence map"
   ]
  },
  {
   "cell_type": "markdown",
   "metadata": {},
   "source": [
    "### Mismatch 'sum' controller"
   ]
  },
  {
   "cell_type": "code",
   "execution_count": null,
   "metadata": {
    "collapsed": false
   },
   "outputs": [],
   "source": [
    "file_name = 'save/rate_based_results_sum_log_8.pkl'\n",
    "with open(file_name, 'rb') as inp:\n",
    "    res_mismatch = pickle.load(inp)['res_mismatch']"
   ]
  },
  {
   "cell_type": "code",
   "execution_count": null,
   "metadata": {
    "collapsed": false
   },
   "outputs": [],
   "source": [
    "make_heatmap_plot(res_mismatch)\n",
    "safe_save_fig('figs/ratebased_mismatch_heatmap_sum_log_8', png=False)"
   ]
  },
  {
   "cell_type": "code",
   "execution_count": null,
   "metadata": {
    "collapsed": false
   },
   "outputs": [],
   "source": [
    "make_convergence_map(res_mismatch)\n",
    "safe_save_fig('figs/ratebased_mismatch_convmap_sum_log_8', png=False)"
   ]
  },
  {
   "cell_type": "markdown",
   "metadata": {},
   "source": [
    "### Mismatch 'pushpull' controller"
   ]
  },
  {
   "cell_type": "code",
   "execution_count": null,
   "metadata": {
    "collapsed": false
   },
   "outputs": [],
   "source": [
    "file_name = 'save/rate_based_results_pushpull_log_8.pkl'\n",
    "with open(file_name, 'rb') as inp:\n",
    "    res_mismatch = pickle.load(inp)['res_mismatch']"
   ]
  },
  {
   "cell_type": "code",
   "execution_count": null,
   "metadata": {
    "collapsed": false
   },
   "outputs": [],
   "source": [
    "make_heatmap_plot(res_mismatch)\n",
    "safe_save_fig('figs/ratebased_mismatch_heatmap_pushpull_log_8', png=False)"
   ]
  },
  {
   "cell_type": "code",
   "execution_count": null,
   "metadata": {
    "collapsed": false
   },
   "outputs": [],
   "source": [
    "make_convergence_map(res_mismatch)\n",
    "safe_save_fig('figs/ratebased_mismatch_convmap_pushpull_log_8', png=False)"
   ]
  },
  {
   "cell_type": "markdown",
   "metadata": {},
   "source": [
    "### Mismatch positive weights"
   ]
  },
  {
   "cell_type": "code",
   "execution_count": null,
   "metadata": {
    "collapsed": false
   },
   "outputs": [],
   "source": [
    "file_name = 'save/rate_based_results_posweights_log_8.pkl'\n",
    "with open(file_name, 'rb') as inp:\n",
    "    res_mismatch = pickle.load(inp)['res_mismatch']"
   ]
  },
  {
   "cell_type": "code",
   "execution_count": null,
   "metadata": {
    "collapsed": false
   },
   "outputs": [],
   "source": [
    "make_heatmap_plot(res_mismatch)\n",
    "safe_save_fig('figs/ratebased_mismatch_heatmap_posweights_log_8', png=False)"
   ]
  },
  {
   "cell_type": "code",
   "execution_count": null,
   "metadata": {
    "collapsed": false
   },
   "outputs": [],
   "source": [
    "make_convergence_map(res_mismatch)\n",
    "safe_save_fig('figs/ratebased_mismatch_convmap_posweights_log_8', png=False)"
   ]
  },
  {
   "cell_type": "markdown",
   "metadata": {},
   "source": [
    "### Mismatch small $\\tau_{1,2}$"
   ]
  },
  {
   "cell_type": "code",
   "execution_count": null,
   "metadata": {
    "collapsed": false
   },
   "outputs": [],
   "source": [
    "file_name = 'save/rate_based_results_small_tau_log_8.pkl'\n",
    "with open(file_name, 'rb') as inp:\n",
    "    res_mismatch = pickle.load(inp)['res_mismatch']"
   ]
  },
  {
   "cell_type": "code",
   "execution_count": null,
   "metadata": {
    "collapsed": false
   },
   "outputs": [],
   "source": [
    "make_heatmap_plot(res_mismatch)\n",
    "safe_save_fig('figs/ratebased_mismatch_heatmap_small_tau_log_8', png=False)"
   ]
  },
  {
   "cell_type": "code",
   "execution_count": null,
   "metadata": {
    "collapsed": false
   },
   "outputs": [],
   "source": [
    "make_convergence_map(res_mismatch)\n",
    "safe_save_fig('figs/ratebased_mismatch_convmap_small_tau_log_8', png=False)"
   ]
  },
  {
   "cell_type": "markdown",
   "metadata": {},
   "source": [
    "### Mismatch large $\\tau_{1,2}$"
   ]
  },
  {
   "cell_type": "code",
   "execution_count": null,
   "metadata": {
    "collapsed": false
   },
   "outputs": [],
   "source": [
    "file_name = 'save/rate_based_results_large_tau_log_8.pkl'\n",
    "with open(file_name, 'rb') as inp:\n",
    "    res_mismatch = pickle.load(inp)['res_mismatch']"
   ]
  },
  {
   "cell_type": "code",
   "execution_count": null,
   "metadata": {
    "collapsed": false
   },
   "outputs": [],
   "source": [
    "make_heatmap_plot(res_mismatch)\n",
    "safe_save_fig('figs/ratebased_mismatch_heatmap_large_tau_log_8', png=False)"
   ]
  },
  {
   "cell_type": "code",
   "execution_count": null,
   "metadata": {
    "collapsed": false
   },
   "outputs": [],
   "source": [
    "make_convergence_map(res_mismatch)\n",
    "safe_save_fig('figs/ratebased_mismatch_convmap_large_tau_log_8', png=False)"
   ]
  },
  {
   "cell_type": "markdown",
   "metadata": {},
   "source": [
    "## Convergence plots"
   ]
  },
  {
   "cell_type": "code",
   "execution_count": null,
   "metadata": {
    "collapsed": true
   },
   "outputs": [],
   "source": [
    "def tracker_generator(simulator, i, n):\n",
    "    \"\"\" Generate some trackers. \"\"\"\n",
    "    res = {}\n",
    "    res['motor'] = simulation.StateMonitor(simulator.motor, 'out')\n",
    "    \n",
    "    return res\n",
    "\n",
    "def snapshot_generator_pre(simulator, i, n):\n",
    "    \"\"\" Generate some pre-run snapshots. \"\"\"\n",
    "    res = {}\n",
    "    res['weights'] = np.copy(simulator.student.Ws[0])\n",
    "    \n",
    "    return res"
   ]
  },
  {
   "cell_type": "markdown",
   "metadata": {},
   "source": [
    "### Convergence 'sum' controller"
   ]
  },
  {
   "cell_type": "markdown",
   "metadata": {},
   "source": [
    "#### Short timescale (convergence 'sum')"
   ]
  },
  {
   "cell_type": "code",
   "execution_count": null,
   "metadata": {
    "collapsed": false
   },
   "outputs": [],
   "source": [
    "# keep things arbitrary but reproducible\n",
    "np.random.seed(32292)\n",
    "\n",
    "simulator = RateLearningSimulation(target, tmax, dt,\n",
    "                                   n_conductor=100, n_student_per_output=1,\n",
    "                                   relaxation=400.0, relaxation_conductor=25.0,\n",
    "                                   conductor_burst_length=None,\n",
    "                                   tracker_generator=tracker_generator,\n",
    "                                   snapshot_generator=snapshot_generator_pre,\n",
    "                                   controller_mode='sum',\n",
    "                                   tutor_rule_gain_per_student=0.5,\n",
    "                                   tutor_rule_compress_rates=False,\n",
    "                                   cs_weights_scale=200.0, ts_weights=0.01,\n",
    "                                   plasticity_constrain_positive=False,\n",
    "                                   plasticity_learning_rate=0.001,\n",
    "                                   plasticity_taus=(80.0, 40.0),\n",
    "                                   plasticity_params=(0.0, -1.0),\n",
    "                                   tutor_rule_tau=40.0)\n",
    "res = simulator.run(250)"
   ]
  },
  {
   "cell_type": "code",
   "execution_count": null,
   "metadata": {
    "collapsed": false
   },
   "outputs": [],
   "source": [
    "fig = plt.figure(figsize=(3, 2))\n",
    "axs = draw_convergence_plot(res, plt.gca(), target_lw=2, extra_traces=[0, 4, 8],\n",
    "                      extra_colors=[[0.831, 0.333, 0.000, 0.25]], inset=True,\n",
    "                      alpha=simulator.plasticity.alpha, beta=simulator.plasticity.beta,\n",
    "                      tau_tutor=simulator.tutor_rule.tau, target=target)\n",
    "\n",
    "axs[0].set_ylim(0, 15);\n",
    "\n",
    "safe_save_fig('figs/ratebased_convergence_plot_sum_small_tau', png=False)"
   ]
  },
  {
   "cell_type": "code",
   "execution_count": null,
   "metadata": {
    "collapsed": false
   },
   "outputs": [],
   "source": [
    "make_convergence_movie('figs/ratebased_convergence_movie_sum_small_tau.mov',\n",
    "                       res, target, idxs=range(0, 250), length=5.0,\n",
    "                       ymax=80.0)"
   ]
  },
  {
   "cell_type": "markdown",
   "metadata": {},
   "source": [
    "#### Long timescale (convergence 'sum')"
   ]
  },
  {
   "cell_type": "code",
   "execution_count": null,
   "metadata": {
    "collapsed": false
   },
   "outputs": [],
   "source": [
    "# keep things arbitrary but reproducible\n",
    "np.random.seed(32290)\n",
    "\n",
    "simulator = RateLearningSimulation(target, tmax, dt,\n",
    "                                   n_conductor=100, n_student_per_output=1,\n",
    "                                   relaxation=400.0, relaxation_conductor=25.0,\n",
    "                                   conductor_burst_length=None,\n",
    "                                   tracker_generator=tracker_generator,\n",
    "                                   snapshot_generator=snapshot_generator_pre,\n",
    "                                   controller_mode='sum',\n",
    "                                   tutor_rule_gain_per_student=0.5,\n",
    "                                   tutor_rule_compress_rates=False,\n",
    "                                   cs_weights_scale=200.0, ts_weights=0.01,\n",
    "                                   plasticity_constrain_positive=False,\n",
    "                                   plasticity_learning_rate=0.001,\n",
    "                                   plasticity_taus=(80.0, 40.0),\n",
    "                                   plasticity_params=(7.0, 6.0),\n",
    "                                   tutor_rule_tau=320.0)\n",
    "res = simulator.run(250)"
   ]
  },
  {
   "cell_type": "code",
   "execution_count": null,
   "metadata": {
    "collapsed": false
   },
   "outputs": [],
   "source": [
    "fig = plt.figure(figsize=(3, 2))\n",
    "axs = draw_convergence_plot(res, plt.gca(), target_lw=2, extra_traces=[0, 4, 8],\n",
    "                      extra_colors=[[0.831, 0.333, 0.000, 0.25]], inset=True,\n",
    "                      alpha=simulator.plasticity.alpha, beta=simulator.plasticity.beta,\n",
    "                      tau_tutor=simulator.tutor_rule.tau, target=target)\n",
    "\n",
    "axs[0].set_ylim(0, 15);\n",
    "\n",
    "safe_save_fig('figs/ratebased_convergence_plot_sum_large_tau')"
   ]
  },
  {
   "cell_type": "code",
   "execution_count": null,
   "metadata": {
    "collapsed": false
   },
   "outputs": [],
   "source": [
    "make_convergence_movie('figs/ratebased_convergence_movie_sum_large_tau.mov',\n",
    "                       res, target, idxs=range(0, 250), length=5.0,\n",
    "                       ymax=80.0)"
   ]
  },
  {
   "cell_type": "markdown",
   "metadata": {},
   "source": [
    "### Convergence 'pushpull' controller"
   ]
  },
  {
   "cell_type": "markdown",
   "metadata": {},
   "source": [
    "#### Short timescale (convergence 'pushpull')"
   ]
  },
  {
   "cell_type": "code",
   "execution_count": null,
   "metadata": {
    "collapsed": false
   },
   "outputs": [],
   "source": [
    "# keep things arbitrary but reproducible\n",
    "np.random.seed(22292)\n",
    "\n",
    "simulator = RateLearningSimulation(target, tmax, dt,\n",
    "                                   n_conductor=100, n_student_per_output=1,\n",
    "                                   relaxation=400.0, relaxation_conductor=25.0,\n",
    "                                   conductor_burst_length=None,\n",
    "                                   tracker_generator=tracker_generator,\n",
    "                                   snapshot_generator=snapshot_generator_pre,\n",
    "                                   controller_mode='pushpull',\n",
    "                                   tutor_rule_gain_per_student=0.5,\n",
    "                                   tutor_rule_compress_rates=False,\n",
    "                                   cs_weights_scale=200.0, ts_weights=0.01,\n",
    "                                   plasticity_constrain_positive=False,\n",
    "                                   plasticity_learning_rate=0.001,\n",
    "                                   plasticity_taus=(80.0, 40.0),\n",
    "                                   plasticity_params=(0.0, -1.0),\n",
    "                                   tutor_rule_tau=40.0)\n",
    "res = simulator.run(250)"
   ]
  },
  {
   "cell_type": "code",
   "execution_count": null,
   "metadata": {
    "collapsed": false
   },
   "outputs": [],
   "source": [
    "fig = plt.figure(figsize=(3, 2))\n",
    "axs = draw_convergence_plot(res, plt.gca(), target_lw=2, extra_traces=[0, 4, 8],\n",
    "                      extra_colors=[[0.831, 0.333, 0.000, 0.25]], inset=True,\n",
    "                      alpha=simulator.plasticity.alpha, beta=simulator.plasticity.beta,\n",
    "                      tau_tutor=simulator.tutor_rule.tau, target=target)\n",
    "\n",
    "axs[0].set_ylim(0, 15);\n",
    "\n",
    "safe_save_fig('figs/ratebased_convergence_plot_pushpull_small_tau')"
   ]
  },
  {
   "cell_type": "code",
   "execution_count": null,
   "metadata": {
    "collapsed": false
   },
   "outputs": [],
   "source": [
    "make_convergence_movie('figs/ratebased_convergence_movie_pushpull_small_tau.mov',\n",
    "                       res, target, idxs=range(0, 250), length=5.0,\n",
    "                       ymax=80.0)"
   ]
  },
  {
   "cell_type": "markdown",
   "metadata": {},
   "source": [
    "#### Long timescale (convergence 'pushpull')"
   ]
  },
  {
   "cell_type": "code",
   "execution_count": null,
   "metadata": {
    "collapsed": false
   },
   "outputs": [],
   "source": [
    "# keep things arbitrary but reproducible\n",
    "np.random.seed(32290)\n",
    "\n",
    "simulator = RateLearningSimulation(target, tmax, dt,\n",
    "                                   n_conductor=100, n_student_per_output=1,\n",
    "                                   relaxation=400.0, relaxation_conductor=25.0,\n",
    "                                   conductor_burst_length=None,\n",
    "                                   tracker_generator=tracker_generator,\n",
    "                                   snapshot_generator=snapshot_generator_pre,\n",
    "                                   controller_mode='pushpull',\n",
    "                                   tutor_rule_gain_per_student=0.5,\n",
    "                                   tutor_rule_compress_rates=False,\n",
    "                                   cs_weights_scale=200.0, ts_weights=0.01,\n",
    "                                   plasticity_constrain_positive=False,\n",
    "                                   plasticity_learning_rate=0.001,\n",
    "                                   plasticity_taus=(80.0, 40.0),\n",
    "                                   plasticity_params=(7.0, 6.0),\n",
    "                                   tutor_rule_tau=320.0)\n",
    "res = simulator.run(250)"
   ]
  },
  {
   "cell_type": "code",
   "execution_count": null,
   "metadata": {
    "collapsed": false
   },
   "outputs": [],
   "source": [
    "fig = plt.figure(figsize=(3, 2))\n",
    "axs = draw_convergence_plot(res, plt.gca(), target_lw=2, extra_traces=[0, 4, 8],\n",
    "                      extra_colors=[[0.831, 0.333, 0.000, 0.25]], inset=True,\n",
    "                      inset_pos=[0.45, 0.45, 0.4, 0.4],\n",
    "                      alpha=simulator.plasticity.alpha, beta=simulator.plasticity.beta,\n",
    "                      tau_tutor=simulator.tutor_rule.tau, target=target)\n",
    "\n",
    "axs[0].set_ylim(0, 15);\n",
    "\n",
    "safe_save_fig('figs/ratebased_convergence_plot_pushpull_large_tau')"
   ]
  },
  {
   "cell_type": "code",
   "execution_count": null,
   "metadata": {
    "collapsed": false
   },
   "outputs": [],
   "source": [
    "make_convergence_movie('figs/ratebased_convergence_movie_pushpull_large_tau.mov',\n",
    "                       res, target, idxs=range(0, 250), length=5.0,\n",
    "                       ymax=80.0)"
   ]
  },
  {
   "cell_type": "markdown",
   "metadata": {},
   "source": [
    "### Convergence comparison 'sum' *vs.* 'pushpull'"
   ]
  },
  {
   "cell_type": "markdown",
   "metadata": {},
   "source": [
    "#### 'Sum' vs 'pushpull' short timescale"
   ]
  },
  {
   "cell_type": "code",
   "execution_count": null,
   "metadata": {
    "collapsed": false
   },
   "outputs": [],
   "source": [
    "# keep things arbitrary but reproducible\n",
    "np.random.seed(212994)\n",
    "\n",
    "simulator = RateLearningSimulation(target, tmax, dt,\n",
    "                                   n_conductor=100, n_student_per_output=1,\n",
    "                                   relaxation=400.0, relaxation_conductor=25.0,\n",
    "                                   conductor_burst_length=None,\n",
    "                                   tracker_generator=tracker_generator,\n",
    "                                   snapshot_generator=snapshot_generator_pre,\n",
    "                                   controller_mode='sum',\n",
    "                                   tutor_rule_gain_per_student=0.5,\n",
    "                                   tutor_rule_compress_rates=False,\n",
    "                                   cs_weights_scale=200.0, ts_weights=0.01,\n",
    "                                   plasticity_constrain_positive=False,\n",
    "                                   plasticity_learning_rate=0.001,\n",
    "                                   plasticity_taus=(80.0, 40.0),\n",
    "                                   plasticity_params=(0.0, -1.0),\n",
    "                                   tutor_rule_tau=40.0)\n",
    "res_sum = simulator.run(250)\n",
    "\n",
    "simulator = RateLearningSimulation(target, tmax, dt,\n",
    "                                   n_conductor=100, n_student_per_output=1,\n",
    "                                   relaxation=400.0, relaxation_conductor=25.0,\n",
    "                                   conductor_burst_length=None,\n",
    "                                   tracker_generator=tracker_generator,\n",
    "                                   snapshot_generator=snapshot_generator_pre,\n",
    "                                   controller_mode='pushpull',\n",
    "                                   tutor_rule_gain_per_student=0.5,\n",
    "                                   tutor_rule_compress_rates=False,\n",
    "                                   cs_weights_scale=200.0, ts_weights=0.01,\n",
    "                                   plasticity_constrain_positive=False,\n",
    "                                   plasticity_learning_rate=0.001,\n",
    "                                   plasticity_taus=(80.0, 40.0),\n",
    "                                   plasticity_params=(0.0, -1.0),\n",
    "                                   tutor_rule_tau=40.0)\n",
    "res_pushpull = simulator.run(250)"
   ]
  },
  {
   "cell_type": "code",
   "execution_count": null,
   "metadata": {
    "collapsed": false
   },
   "outputs": [],
   "source": [
    "plt.figure(figsize=(6, 4))\n",
    "compare_traces(res_sum, res_pushpull, target, labels=['sum', 'push-pull'], ymax=20, inset_ymax=80)\n",
    "\n",
    "safe_save_fig('figs/ratebased_sum_vs_pushpull_short_tau', png=False)"
   ]
  },
  {
   "cell_type": "markdown",
   "metadata": {},
   "source": [
    "#### 'Sum' vs 'pushpull' long timescale"
   ]
  },
  {
   "cell_type": "code",
   "execution_count": null,
   "metadata": {
    "collapsed": false
   },
   "outputs": [],
   "source": [
    "# keep things arbitrary but reproducible\n",
    "np.random.seed(202094)\n",
    "\n",
    "simulator = RateLearningSimulation(target, tmax, dt,\n",
    "                                   n_conductor=100, n_student_per_output=1,\n",
    "                                   relaxation=400.0, relaxation_conductor=25.0,\n",
    "                                   conductor_burst_length=None,\n",
    "                                   tracker_generator=tracker_generator,\n",
    "                                   snapshot_generator=snapshot_generator_pre,\n",
    "                                   controller_mode='sum',\n",
    "                                   tutor_rule_gain_per_student=0.5,\n",
    "                                   tutor_rule_compress_rates=False,\n",
    "                                   cs_weights_scale=200.0, ts_weights=0.01,\n",
    "                                   plasticity_constrain_positive=False,\n",
    "                                   plasticity_learning_rate=0.001,\n",
    "                                   plasticity_taus=(80.0, 40.0),\n",
    "                                   plasticity_params=(7.0, 6.0),\n",
    "                                   tutor_rule_tau=320.0)\n",
    "res_sum = simulator.run(250)\n",
    "\n",
    "simulator = RateLearningSimulation(target, tmax, dt,\n",
    "                                   n_conductor=100, n_student_per_output=1,\n",
    "                                   relaxation=400.0, relaxation_conductor=25.0,\n",
    "                                   conductor_burst_length=None,\n",
    "                                   tracker_generator=tracker_generator,\n",
    "                                   snapshot_generator=snapshot_generator_pre,\n",
    "                                   controller_mode='pushpull',\n",
    "                                   tutor_rule_gain_per_student=0.5,\n",
    "                                   tutor_rule_compress_rates=False,\n",
    "                                   cs_weights_scale=200.0, ts_weights=0.01,\n",
    "                                   plasticity_constrain_positive=False,\n",
    "                                   plasticity_learning_rate=0.001,\n",
    "                                   plasticity_taus=(80.0, 40.0),\n",
    "                                   plasticity_params=(7.0, 6.0),\n",
    "                                   tutor_rule_tau=320.0)\n",
    "res_pushpull = simulator.run(250)"
   ]
  },
  {
   "cell_type": "code",
   "execution_count": null,
   "metadata": {
    "collapsed": false
   },
   "outputs": [],
   "source": [
    "plt.figure(figsize=(6, 4))\n",
    "compare_traces(res_sum, res_pushpull, target, labels=['sum', 'push-pull'], ymax=20, inset_ymax=80)\n",
    "\n",
    "safe_save_fig('figs/ratebased_sum_vs_pushpull_long_tau', png=False)"
   ]
  },
  {
   "cell_type": "markdown",
   "metadata": {},
   "source": [
    "## Effect of firing rate constraint"
   ]
  },
  {
   "cell_type": "markdown",
   "metadata": {},
   "source": [
    "#### Firing rate constraint short timescale"
   ]
  },
  {
   "cell_type": "code",
   "execution_count": null,
   "metadata": {
    "collapsed": false
   },
   "outputs": [],
   "source": [
    "# keep things arbitrary but reproducible\n",
    "np.random.seed(8735)\n",
    "\n",
    "simulator = RateLearningSimulation(target, tmax, dt,\n",
    "                                   n_conductor=100, n_student_per_output=1,\n",
    "                                   relaxation=400.0, relaxation_conductor=25.0,\n",
    "                                   conductor_burst_length=None,\n",
    "                                   tracker_generator=tracker_generator,\n",
    "                                   snapshot_generator=snapshot_generator_pre,\n",
    "                                   controller_mode='sum',\n",
    "                                   tutor_rule_gain_per_student=0.5,\n",
    "                                   tutor_rule_compress_rates=False,\n",
    "                                   cs_weights_scale=200.0, ts_weights=0.01,\n",
    "                                   plasticity_constrain_positive=False,\n",
    "                                   plasticity_learning_rate=0.001,\n",
    "                                   plasticity_taus=(80.0, 40.0),\n",
    "                                   plasticity_params=(0.0, -1.0),\n",
    "                                   tutor_rule_tau=40.0)\n",
    "res = simulator.run(250)\n",
    "\n",
    "simulator = RateLearningSimulation(target, tmax, dt,\n",
    "                                   n_conductor=100, n_student_per_output=1,\n",
    "                                   relaxation=400.0, relaxation_conductor=25.0,\n",
    "                                   conductor_burst_length=None,\n",
    "                                   tracker_generator=tracker_generator,\n",
    "                                   snapshot_generator=snapshot_generator_pre,\n",
    "                                   controller_mode='sum',\n",
    "                                   tutor_rule_gain_per_student=0.5,\n",
    "                                   tutor_rule_compress_rates=True,\n",
    "                                   cs_weights_scale=200.0, ts_weights=0.01,\n",
    "                                   plasticity_constrain_positive=False,\n",
    "                                   plasticity_learning_rate=0.001,\n",
    "                                   plasticity_taus=(80.0, 40.0),\n",
    "                                   plasticity_params=(0.0, -1.0),\n",
    "                                   tutor_rule_tau=40.0)\n",
    "res_fc = simulator.run(250)"
   ]
  },
  {
   "cell_type": "code",
   "execution_count": null,
   "metadata": {
    "collapsed": false
   },
   "outputs": [],
   "source": [
    "plt.figure(figsize=(3, 2))\n",
    "compare_traces(res, res_fc, target, labels=['no constraint', 'with constraint'], ymax=20, inset_ymax=80,\n",
    "               inset_label_size=6, inset_legend_pos=(1.2, 1.1))\n",
    "\n",
    "#safe_save_fig('figs/ratebased_rate_constraint_short_tau', png=False)"
   ]
  },
  {
   "cell_type": "code",
   "execution_count": null,
   "metadata": {
    "collapsed": false
   },
   "outputs": [],
   "source": [
    "plt.figure(figsize=(4, 3))\n",
    "compare_traces(res, res_fc, target, labels=['no constraint', 'with constraint'], ymax=20, inset_ymax=80)\n",
    "\n",
    "safe_save_fig('figs/ratebased_rate_constraint_short_tau_square', png=False)"
   ]
  },
  {
   "cell_type": "code",
   "execution_count": null,
   "metadata": {
    "collapsed": false
   },
   "outputs": [],
   "source": [
    "make_convergence_movie('figs/ratebased_rate_constraint_movie_short_tau.mov',\n",
    "                       (res, res_fc), target, idxs=range(0, 250), length=5.0,\n",
    "                       ymax=80.0, labels=['no constraint', 'with constraint'])"
   ]
  },
  {
   "cell_type": "markdown",
   "metadata": {},
   "source": [
    "#### Firing rate constraint long timescale"
   ]
  },
  {
   "cell_type": "code",
   "execution_count": null,
   "metadata": {
    "collapsed": false
   },
   "outputs": [],
   "source": [
    "# keep things arbitrary but reproducible\n",
    "np.random.seed(202094)\n",
    "\n",
    "simulator = RateLearningSimulation(target, tmax, dt,\n",
    "                                   n_conductor=100, n_student_per_output=1,\n",
    "                                   relaxation=400.0, relaxation_conductor=25.0,\n",
    "                                   conductor_burst_length=None,\n",
    "                                   tracker_generator=tracker_generator,\n",
    "                                   snapshot_generator=snapshot_generator_pre,\n",
    "                                   controller_mode='sum',\n",
    "                                   tutor_rule_gain_per_student=0.5,\n",
    "                                   tutor_rule_compress_rates=False,\n",
    "                                   cs_weights_scale=200.0, ts_weights=0.01,\n",
    "                                   plasticity_constrain_positive=False,\n",
    "                                   plasticity_learning_rate=0.001,\n",
    "                                   plasticity_taus=(80.0, 40.0),\n",
    "                                   plasticity_params=(7.0, 6.0),\n",
    "                                   tutor_rule_tau=320.0)\n",
    "res = simulator.run(250)\n",
    "\n",
    "simulator = RateLearningSimulation(target, tmax, dt,\n",
    "                                   n_conductor=100, n_student_per_output=1,\n",
    "                                   relaxation=400.0, relaxation_conductor=25.0,\n",
    "                                   conductor_burst_length=None,\n",
    "                                   tracker_generator=tracker_generator,\n",
    "                                   snapshot_generator=snapshot_generator_pre,\n",
    "                                   controller_mode='sum',\n",
    "                                   tutor_rule_gain_per_student=0.5,\n",
    "                                   tutor_rule_compress_rates=True,\n",
    "                                   cs_weights_scale=200.0, ts_weights=0.01,\n",
    "                                   plasticity_constrain_positive=False,\n",
    "                                   plasticity_learning_rate=0.001,\n",
    "                                   plasticity_taus=(80.0, 40.0),\n",
    "                                   plasticity_params=(7.0, 6.0),\n",
    "                                   tutor_rule_tau=320.0)\n",
    "res_fc = simulator.run(250)"
   ]
  },
  {
   "cell_type": "code",
   "execution_count": null,
   "metadata": {
    "collapsed": false
   },
   "outputs": [],
   "source": [
    "plt.figure(figsize=(3, 2))\n",
    "compare_traces(res, res_fc, target, labels=['no constraint', 'with constraint'], ymax=20, inset_ymax=80,\n",
    "               inset_label_size=6, inset_legend_pos=(1.2, 1.1))\n",
    "\n",
    "safe_save_fig('figs/ratebased_rate_constraint_long_tau', png=False)"
   ]
  },
  {
   "cell_type": "markdown",
   "metadata": {},
   "source": [
    "#### Stepwise learning with 'pushpull' controller"
   ]
  },
  {
   "cell_type": "code",
   "execution_count": null,
   "metadata": {
    "collapsed": false
   },
   "outputs": [],
   "source": [
    "# keep things arbitrary but reproducible\n",
    "np.random.seed(2294)\n",
    "\n",
    "simulator = RateLearningSimulation(target, tmax, dt,\n",
    "                                   n_conductor=100, n_student_per_output=1,\n",
    "                                   relaxation=400.0, relaxation_conductor=25.0,\n",
    "                                   conductor_burst_length=None,\n",
    "                                   tracker_generator=tracker_generator,\n",
    "                                   snapshot_generator=snapshot_generator_pre,\n",
    "                                   controller_mode='pushpull',\n",
    "                                   tutor_rule_gain_per_student=0.5,\n",
    "                                   tutor_rule_compress_rates=True,\n",
    "                                   cs_weights_scale=200.0, ts_weights=0.01,\n",
    "                                   plasticity_constrain_positive=False,\n",
    "                                   plasticity_learning_rate=0.001,\n",
    "                                   plasticity_taus=(80.0, 40.0),\n",
    "                                   plasticity_params=(24.0, 23.0),\n",
    "                                   tutor_rule_tau=1000.0)\n",
    "res_fc = simulator.run(250)"
   ]
  },
  {
   "cell_type": "code",
   "execution_count": null,
   "metadata": {
    "collapsed": false
   },
   "outputs": [],
   "source": [
    "fig, axs = plt.subplots(1, 4, figsize=(6, 1.75))\n",
    "show_program_development(res_fc, axs, stages=[0, 16, 33, 249], ymax=80, target=target)\n",
    "fig.tight_layout()\n",
    "\n",
    "safe_save_fig('figs/ratebased_rate_constraint_pushpull_stepwise', png=False)"
   ]
  },
  {
   "cell_type": "markdown",
   "metadata": {},
   "source": [
    "#### Stepwise learning"
   ]
  },
  {
   "cell_type": "code",
   "execution_count": null,
   "metadata": {
    "collapsed": false
   },
   "outputs": [],
   "source": [
    "# keep things arbitrary but reproducible\n",
    "np.random.seed(202094)\n",
    "\n",
    "simulator = RateLearningSimulation(target, tmax, dt,\n",
    "                                   n_conductor=100, n_student_per_output=1,\n",
    "                                   relaxation=400.0, relaxation_conductor=25.0,\n",
    "                                   conductor_burst_length=None,\n",
    "                                   tracker_generator=tracker_generator,\n",
    "                                   snapshot_generator=snapshot_generator_pre,\n",
    "                                   controller_mode='sum',\n",
    "                                   tutor_rule_gain_per_student=0.5,\n",
    "                                   tutor_rule_compress_rates=True,\n",
    "                                   cs_weights_scale=200.0, ts_weights=0.01,\n",
    "                                   plasticity_constrain_positive=False,\n",
    "                                   plasticity_learning_rate=0.001,\n",
    "                                   plasticity_taus=(80.0, 40.0),\n",
    "                                   plasticity_params=(24.0, 23.0),\n",
    "                                   tutor_rule_tau=1000.0)\n",
    "res_fc = simulator.run(250)"
   ]
  },
  {
   "cell_type": "code",
   "execution_count": null,
   "metadata": {
    "collapsed": false
   },
   "outputs": [],
   "source": [
    "fig, axs = plt.subplots(1, 4, figsize=(6, 1.75))\n",
    "show_program_development(res_fc, axs, stages=[0, 16, 33, 249], ymax=80, target=target)\n",
    "fig.tight_layout()\n",
    "\n",
    "safe_save_fig('figs/ratebased_rate_constraint_stepwise', png=False)"
   ]
  },
  {
   "cell_type": "code",
   "execution_count": null,
   "metadata": {
    "collapsed": false
   },
   "outputs": [],
   "source": [
    "fig, axs = plt.subplots(3, 1, figsize=(2, 4))\n",
    "show_program_development(res_fc, axs, stages=[0, 16, 33], ymax=80, target=target, bbox_pos=(1.15, 1.15))\n",
    "fig.tight_layout()\n",
    "\n",
    "safe_save_fig('figs/ratebased_rate_constraint_stepwise_vertical', png=False)"
   ]
  },
  {
   "cell_type": "code",
   "execution_count": null,
   "metadata": {
    "collapsed": false
   },
   "outputs": [],
   "source": [
    "make_convergence_movie('figs/ratebased_rate_constraint_stepwise_movie.mov',\n",
    "                       res_fc, target, idxs=range(0, 200), length=10.0,\n",
    "                       ymax=80.0)"
   ]
  },
  {
   "cell_type": "markdown",
   "metadata": {},
   "source": [
    "## Credit misassignment figures"
   ]
  },
  {
   "cell_type": "markdown",
   "metadata": {},
   "source": [
    "### Credit misassignment figures definitions"
   ]
  },
  {
   "cell_type": "code",
   "execution_count": null,
   "metadata": {
    "collapsed": true
   },
   "outputs": [],
   "source": [
    "def make_credit_plot(res_mismatch):\n",
    "    rho_levels = [_['params']['controller_mismatch_amount'] for _ in res_mismatch]\n",
    "    final_error = [_['error_trace'][-1] for _ in res_mismatch]\n",
    "    \n",
    "    plt.figure(figsize=(2.5, 2.25))\n",
    "    plt.plot(rho_levels, final_error, '.-', color=[0.200, 0.357, 0.400])\n",
    "    plt.grid(True)\n",
    "    plt.xlabel('fraction mismatch')\n",
    "    plt.ylabel('final error');"
   ]
  },
  {
   "cell_type": "markdown",
   "metadata": {},
   "source": [
    "### Credit mismatch figures for 'sum' controller"
   ]
  },
  {
   "cell_type": "code",
   "execution_count": null,
   "metadata": {
    "collapsed": false
   },
   "outputs": [],
   "source": [
    "file_name = 'save/rate_based_credit_results_sum.pkl'\n",
    "with open(file_name, 'rb') as inp:\n",
    "    inp_dict = pickle.load(inp)\n",
    "    res_mismatch = inp_dict['res_mismatch']\n",
    "    target = inp_dict['target']\n",
    "    tmax = inp_dict['tmax']\n",
    "    dt = inp_dict['dt']"
   ]
  },
  {
   "cell_type": "code",
   "execution_count": null,
   "metadata": {
    "collapsed": false
   },
   "outputs": [],
   "source": [
    "make_credit_plot(res_mismatch)\n",
    "plt.xlim(0, 0.5)\n",
    "plt.ylim(0, 10)\n",
    "\n",
    "safe_save_fig('figs/ratebased_credit_mismatch_sum', png=False)"
   ]
  },
  {
   "cell_type": "markdown",
   "metadata": {},
   "source": [
    "### Credit mismatch figures for 'pushpull' controller with no subdivision"
   ]
  },
  {
   "cell_type": "code",
   "execution_count": null,
   "metadata": {
    "collapsed": false
   },
   "outputs": [],
   "source": [
    "file_name = 'save/rate_based_credit_results_pushpull.pkl'\n",
    "with open(file_name, 'rb') as inp:\n",
    "    inp_dict = pickle.load(inp)\n",
    "    res_mismatch = inp_dict['res_mismatch']\n",
    "    target = inp_dict['target']\n",
    "    tmax = inp_dict['tmax']\n",
    "    dt = inp_dict['dt']"
   ]
  },
  {
   "cell_type": "code",
   "execution_count": null,
   "metadata": {
    "collapsed": false
   },
   "outputs": [],
   "source": [
    "make_credit_plot(res_mismatch)\n",
    "plt.ylim(0, 10)\n",
    "\n",
    "safe_save_fig('figs/ratebased_credit_mismatch_pushpull', png=False)"
   ]
  },
  {
   "cell_type": "markdown",
   "metadata": {},
   "source": [
    "### Credit mismatch figures for 'pushpull' controller with subdivision by 2"
   ]
  },
  {
   "cell_type": "code",
   "execution_count": null,
   "metadata": {
    "collapsed": false
   },
   "outputs": [],
   "source": [
    "file_name = 'save/rate_based_credit_results_pushpull_subdiv.pkl'\n",
    "with open(file_name, 'rb') as inp:\n",
    "    inp_dict = pickle.load(inp)\n",
    "    res_mismatch = inp_dict['res_mismatch']\n",
    "    target = inp_dict['target']\n",
    "    tmax = inp_dict['tmax']\n",
    "    dt = inp_dict['dt']"
   ]
  },
  {
   "cell_type": "code",
   "execution_count": null,
   "metadata": {
    "collapsed": false
   },
   "outputs": [],
   "source": [
    "make_credit_plot(res_mismatch)\n",
    "plt.ylim(0, 10)\n",
    "\n",
    "safe_save_fig('figs/ratebased_credit_mismatch_pushpull_subdiv', png=False)"
   ]
  },
  {
   "cell_type": "markdown",
   "metadata": {},
   "source": [
    "# Non-HVC-like conductor"
   ]
  },
  {
   "cell_type": "markdown",
   "metadata": {},
   "source": [
    "Here we run some simulations in which the conductor can fire arbitrary patterns, and is not restricted to HVC-like firing in which each neuron fires a single burst during the whole duration of the motor program."
   ]
  },
  {
   "cell_type": "code",
   "execution_count": null,
   "metadata": {
    "collapsed": true
   },
   "outputs": [],
   "source": [
    "def tracker_generator(simulator, i, n):\n",
    "    \"\"\" Generate some trackers. \"\"\"\n",
    "    res = {}\n",
    "    if i < 10 or i%10 == 0 or n - i <= 10:\n",
    "        res['motor'] = simulation.StateMonitor(simulator.motor, 'out')\n",
    "        res['tutor'] = simulation.StateMonitor(simulator.tutor_rule, 'out')\n",
    "        res['conductor'] = simulation.StateMonitor(simulator.conductor, 'out')\n",
    "        res['student'] = simulation.StateMonitor(simulator.student, 'out')\n",
    "    \n",
    "    return res\n",
    "\n",
    "def snapshot_generator_pre(simulator, i, n):\n",
    "    \"\"\" Generate some pre-run snapshots. \"\"\"\n",
    "    res = {}\n",
    "    if i < 10 or i%10 == 0 or n - i <= 10:\n",
    "        res['weights'] = np.copy(simulator.student.Ws[0])\n",
    "    \n",
    "    return res"
   ]
  },
  {
   "cell_type": "code",
   "execution_count": null,
   "metadata": {
    "collapsed": false
   },
   "outputs": [],
   "source": [
    "# keep things arbitrary but reproducible\n",
    "np.random.seed(32234)\n",
    "\n",
    "# average fraction of conductor neurons active at any given time\n",
    "conductor_sparsity = 0.1\n",
    "# size of burst\n",
    "conductor_timescale = 30.0 # ms\n",
    "\n",
    "n_conductor = 100\n",
    "\n",
    "# generate a conductor activity pattern\n",
    "conductor_steps = int_r(tmax/conductor_timescale)\n",
    "conductor_pattern = np.zeros((n_conductor, conductor_steps))\n",
    "conductor_pattern[np.random.rand(*conductor_pattern.shape) < conductor_sparsity] = 1.0/(\n",
    "    conductor_sparsity * float(n_conductor))\n",
    "conductor_pattern = np.repeat(conductor_pattern, int_r(conductor_timescale/dt), axis=1)\n",
    "\n",
    "simulator = RateLearningSimulation(target, tmax, dt,\n",
    "                                   n_conductor=n_conductor, n_student_per_output=1,\n",
    "                                   relaxation=400.0, relaxation_conductor=25.0,\n",
    "                                   conductor_burst_length=dt,\n",
    "                                   conductor_from_table=conductor_pattern,\n",
    "                                   tracker_generator=tracker_generator,\n",
    "                                   snapshot_generator=snapshot_generator_pre,\n",
    "                                   controller_mode='pushpull',\n",
    "                                   tutor_rule_gain_per_student=0.5,\n",
    "                                   tutor_rule_compress_rates=False,\n",
    "                                   cs_weights_scale=200.0, ts_weights=0.01,\n",
    "                                   plasticity_constrain_positive=True,\n",
    "                                   plasticity_learning_rate=0.001,\n",
    "                                   plasticity_taus=(80.0, 40.0),\n",
    "                                   plasticity_params=(5.0, 4.0),\n",
    "                                   tutor_rule_tau=240.0)\n",
    "res = simulator.run(5000)"
   ]
  },
  {
   "cell_type": "code",
   "execution_count": null,
   "metadata": {
    "collapsed": false
   },
   "outputs": [],
   "source": [
    "plt.figure(figsize=(3, 2))\n",
    "idx = 0\n",
    "sel_cond_out = res[idx]['conductor'].out[::5]\n",
    "draw_multi_traces(res[idx]['conductor'].t, sel_cond_out,\n",
    "                  color_fct=lambda i: ('k', [0.200, 0.357, 0.400])[i%2], edge_factor=1.4,\n",
    "                  fill_alpha=0.5)\n",
    "plt.xlim(0, tmax);\n",
    "plt.yticks(plt.yticks()[0][::2], range(1, len(sel_cond_out), 2))\n",
    "\n",
    "plt.xlabel('time (ms)')\n",
    "plt.ylabel('conductor neuron index')\n",
    "\n",
    "safe_save_fig('figs/ratebased_alt_conductor_pattern', png=False)"
   ]
  },
  {
   "cell_type": "code",
   "execution_count": null,
   "metadata": {
    "collapsed": false
   },
   "outputs": [],
   "source": [
    "fig = plt.figure(figsize=(3, 2))\n",
    "axs = draw_convergence_plot(res[:3001], plt.gca(), target_lw=2,\n",
    "                      extra_colors=[[0.831, 0.333, 0.000, 0.25]], inset=True,\n",
    "                      alpha=simulator.plasticity.alpha, beta=simulator.plasticity.beta,\n",
    "                      tau_tutor=simulator.tutor_rule.tau, target=target,\n",
    "                      inset_pos=[0.43, 0.4, 0.45, 0.45])\n",
    "\n",
    "axs[0].set_ylim(0, 15);\n",
    "\n",
    "safe_save_fig('figs/ratebased_alt_conductor_convergence', png=False)"
   ]
  },
  {
   "cell_type": "code",
   "execution_count": null,
   "metadata": {
    "collapsed": false
   },
   "outputs": [],
   "source": [
    "make_convergence_movie('figs/ratebased_convergence_movie_alt_conductor.mov',\n",
    "                       res, target, idxs=range(0, 3000), length=12,\n",
    "                       ymax=80.0)"
   ]
  },
  {
   "cell_type": "markdown",
   "metadata": {},
   "source": [
    "# Non-linear (but monotonic) student--output relation"
   ]
  },
  {
   "cell_type": "code",
   "execution_count": null,
   "metadata": {
    "collapsed": true
   },
   "outputs": [],
   "source": [
    "def tracker_generator(simulator, i, n):\n",
    "    \"\"\" Generate some trackers. \"\"\"\n",
    "    res = {}\n",
    "    res['motor'] = simulation.StateMonitor(simulator.motor, 'out')\n",
    "    res['tutor'] = simulation.StateMonitor(simulator.tutor_rule, 'out')\n",
    "    res['conductor'] = simulation.StateMonitor(simulator.conductor, 'out')\n",
    "    res['student'] = simulation.StateMonitor(simulator.student, 'out')\n",
    "    \n",
    "    return res\n",
    "\n",
    "def snapshot_generator_pre(simulator, i, n):\n",
    "    \"\"\" Generate some pre-run snapshots. \"\"\"\n",
    "    res = {}\n",
    "    res['weights'] = np.copy(simulator.student.Ws[0])\n",
    "    \n",
    "    return res"
   ]
  },
  {
   "cell_type": "code",
   "execution_count": null,
   "metadata": {
    "collapsed": false
   },
   "outputs": [],
   "source": [
    "# keep things arbitrary but reproducible\n",
    "np.random.seed(32292)\n",
    "\n",
    "simulator = RateLearningSimulation(target, tmax, dt,\n",
    "                                   n_conductor=100, n_student_per_output=1,\n",
    "                                   relaxation=400.0, relaxation_conductor=25.0,\n",
    "                                   conductor_burst_length=None,\n",
    "                                   tracker_generator=tracker_generator,\n",
    "                                   snapshot_generator=snapshot_generator_pre,\n",
    "                                   controller_mode='sum',\n",
    "                                   controller_nonlinearity=lambda v:\n",
    "                                           100.0*np.exp((v-100.0)/50.0)/(1 + np.exp((v-100.0)/50.0)),\n",
    "                                   tutor_rule_gain_per_student=0.5,\n",
    "                                   tutor_rule_compress_rates=False,\n",
    "                                   cs_weights_scale=200.0, ts_weights=0.01,\n",
    "                                   plasticity_constrain_positive=False,\n",
    "                                   plasticity_learning_rate=0.001,\n",
    "                                   plasticity_taus=(80.0, 40.0),\n",
    "                                   plasticity_params=(24.0, 23.0),\n",
    "                                   tutor_rule_tau=1000.0)\n",
    "res = simulator.run(500)"
   ]
  },
  {
   "cell_type": "code",
   "execution_count": null,
   "metadata": {
    "collapsed": false
   },
   "outputs": [],
   "source": [
    "plot_evolution(res, target, dt)"
   ]
  },
  {
   "cell_type": "code",
   "execution_count": null,
   "metadata": {
    "collapsed": false
   },
   "outputs": [],
   "source": [
    "fig = plt.figure(figsize=(3, 2))\n",
    "axs = draw_convergence_plot(res, plt.gca(), target_lw=2, extra_traces=[0, 10, 20],\n",
    "                      extra_colors=[[0.831, 0.333, 0.000, 0.25]], inset=True,\n",
    "                      alpha=simulator.plasticity.alpha, beta=simulator.plasticity.beta,\n",
    "                      tau_tutor=simulator.tutor_rule.tau, target=target,\n",
    "                            inset_pos=[0.4, 0.4, 0.45, 0.45])\n",
    "\n",
    "axs[0].set_ylim(0, 15);\n",
    "\n",
    "safe_save_fig('figs/ratebased_convergence_plot_sigmoidal_controller', png=False)"
   ]
  },
  {
   "cell_type": "code",
   "execution_count": null,
   "metadata": {
    "collapsed": false
   },
   "outputs": [],
   "source": [
    "make_convergence_movie('figs/ratebased_convergence_movie_sigmoidal_controller.mov',\n",
    "                       res, target, idxs=range(0, 500), length=10.0,\n",
    "                       ymax=80.0)"
   ]
  },
  {
   "cell_type": "markdown",
   "metadata": {
    "collapsed": true
   },
   "source": [
    "# Convergence with different kernels"
   ]
  },
  {
   "cell_type": "code",
   "execution_count": null,
   "metadata": {
    "collapsed": true
   },
   "outputs": [],
   "source": [
    "def tracker_generator(simulator, i, n):\n",
    "    \"\"\" Generate some trackers. \"\"\"\n",
    "    res = {}\n",
    "    res['motor'] = simulation.StateMonitor(simulator.motor, 'out')\n",
    "    res['tutor'] = simulation.StateMonitor(simulator.tutor_rule, 'out')\n",
    "    res['conductor'] = simulation.StateMonitor(simulator.conductor, 'out')\n",
    "    res['student'] = simulation.StateMonitor(simulator.student, 'out')\n",
    "    \n",
    "    return res\n",
    "\n",
    "def snapshot_generator_pre(simulator, i, n):\n",
    "    \"\"\" Generate some pre-run snapshots. \"\"\"\n",
    "    res = {}\n",
    "    res['weights'] = np.copy(simulator.student.Ws[0])\n",
    "    \n",
    "    return res"
   ]
  },
  {
   "cell_type": "code",
   "execution_count": null,
   "metadata": {
    "collapsed": false
   },
   "outputs": [],
   "source": [
    "# keep things arbitrary but reproducible\n",
    "np.random.seed(32293)\n",
    "\n",
    "simulator = RateLearningSimulation(target, tmax, dt,\n",
    "                                   n_conductor=100, n_student_per_output=1,\n",
    "                                   relaxation=400.0, relaxation_conductor=25.0,\n",
    "                                   conductor_burst_length=None,\n",
    "                                   tracker_generator=tracker_generator,\n",
    "                                   snapshot_generator=snapshot_generator_pre,\n",
    "#                                   controller_mode='pushpull',\n",
    "                                   controller_mode='sum',\n",
    "                                   tutor_rule_gain_per_student=0.5,\n",
    "                                   tutor_rule_compress_rates=False,\n",
    "                                   cs_weights_scale=200.0, ts_weights=0.01,\n",
    "                                   plasticity_constrain_positive=False,\n",
    "#                                   plasticity_learning_rate=0.002,\n",
    "                                   plasticity_type='exp_texp',\n",
    "                                   plasticity_learning_rate=0.001,\n",
    "                                   plasticity_taus=(40.0, 40.0),\n",
    "                                   plasticity_params=(24.0, 23.0),\n",
    "                                   tutor_rule_tau=1000.0)\n",
    "res = simulator.run(200)"
   ]
  },
  {
   "cell_type": "code",
   "execution_count": null,
   "metadata": {
    "collapsed": false
   },
   "outputs": [],
   "source": [
    "fig = plt.figure(figsize=(3, 2))\n",
    "axs = draw_convergence_plot(res, plt.gca(), target_lw=2, #extra_traces=[0, 4, 8],\n",
    "                      extra_colors=[[0.831, 0.333, 0.000, 0.25]], inset=True,\n",
    "                      alpha=simulator.plasticity.alpha, beta=simulator.plasticity.beta,\n",
    "                      tau_tutor=simulator.tutor_rule.tau, target=target)\n",
    "\n",
    "axs[0].set_ylim(0, 15);\n",
    "\n",
    "safe_save_fig('figs/ratebased_convergence_plot_alt_kernel', png=False)"
   ]
  },
  {
   "cell_type": "code",
   "execution_count": null,
   "metadata": {
    "collapsed": false
   },
   "outputs": [],
   "source": [
    "make_convergence_movie('figs/ratebased_convergence_movie_alt_kernel.mov',\n",
    "                       res, target, idxs=range(0, 200), length=4.0,\n",
    "                       ymax=80.0)"
   ]
  },
  {
   "cell_type": "code",
   "execution_count": null,
   "metadata": {
    "collapsed": true
   },
   "outputs": [],
   "source": []
  }
 ],
 "metadata": {
  "kernelspec": {
   "display_name": "Python 2",
   "language": "python",
   "name": "python2"
  },
  "language_info": {
   "codemirror_mode": {
    "name": "ipython",
    "version": 2
   },
   "file_extension": ".py",
   "mimetype": "text/x-python",
   "name": "python",
   "nbconvert_exporter": "python",
   "pygments_lexer": "ipython2",
   "version": "2.7.12"
  }
 },
 "nbformat": 4,
 "nbformat_minor": 0
}
