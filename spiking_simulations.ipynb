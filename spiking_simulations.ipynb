{
 "cells": [
  {
   "cell_type": "markdown",
   "metadata": {},
   "source": [
    "# Testing tutor-student matching with spiking simulations"
   ]
  },
  {
   "cell_type": "code",
   "execution_count": null,
   "metadata": {
    "collapsed": false
   },
   "outputs": [],
   "source": [
    "%matplotlib inline\n",
    "import matplotlib as mpl\n",
    "import matplotlib.ticker as mtick\n",
    "import matplotlib.pyplot as plt\n",
    "import seaborn as sns\n",
    "sns.set_style('white')\n",
    "\n",
    "plt.rc('text', usetex=True)\n",
    "plt.rc('font', family='serif', serif='cm')\n",
    "\n",
    "plt.rcParams['figure.titlesize'] = 10\n",
    "plt.rcParams['axes.labelsize'] = 8\n",
    "plt.rcParams['axes.titlesize'] = 10\n",
    "plt.rcParams['xtick.labelsize'] = 8\n",
    "plt.rcParams['ytick.labelsize'] = 8\n",
    "plt.rcParams['axes.labelpad'] = 3.0\n",
    "\n",
    "from IPython.display import display, clear_output\n",
    "from ipywidgets import FloatProgress\n",
    "\n",
    "# comment out the next line if not working on a retina-display computer\n",
    "import IPython\n",
    "IPython.display.set_matplotlib_formats('retina')"
   ]
  },
  {
   "cell_type": "code",
   "execution_count": null,
   "metadata": {
    "collapsed": true
   },
   "outputs": [],
   "source": [
    "import numpy as np\n",
    "import copy\n",
    "import time\n",
    "import os\n",
    "import cPickle as pickle"
   ]
  },
  {
   "cell_type": "code",
   "execution_count": null,
   "metadata": {
    "collapsed": true
   },
   "outputs": [],
   "source": [
    "import simulation\n",
    "from basic_defs import *\n",
    "from helpers import *"
   ]
  },
  {
   "cell_type": "markdown",
   "metadata": {},
   "source": [
    "# Define target motor programs"
   ]
  },
  {
   "cell_type": "code",
   "execution_count": null,
   "metadata": {
    "collapsed": false
   },
   "outputs": [],
   "source": [
    "tmax = 600.0                  # duration of motor program (ms)\n",
    "dt = 0.2                      # simulation timestep (ms)\n",
    "\n",
    "nsteps = int(tmax/dt)\n",
    "times = np.arange(0, tmax, dt)"
   ]
  },
  {
   "cell_type": "code",
   "execution_count": null,
   "metadata": {
    "collapsed": false
   },
   "outputs": [],
   "source": [
    "# add some noise, but keep things reproducible\n",
    "np.random.seed(0)\n",
    "target_complex = 100.0*np.vstack((\n",
    "            np.convolve(np.sin(times/100 + 0.1*np.random.randn(len(times)))**6 +\n",
    "                      np.cos(times/150 + 0.2*np.random.randn(len(times)) + np.random.randn())**4,\n",
    "                  np.exp(-0.5*np.linspace(-3.0, 3.0, 200)**2)/np.sqrt(2*np.pi)/80, mode='same'),\n",
    "            np.convolve(np.sin(times/110 + 0.15*np.random.randn(len(times)) + np.pi/3)**6 +\n",
    "                      np.cos(times/100 + 0.2*np.random.randn(len(times)) + np.random.randn())**4,\n",
    "                  np.exp(-0.5*np.linspace(-3.0, 3.0, 200)**2)/np.sqrt(2*np.pi)/80, mode='same'),\n",
    "        ))"
   ]
  },
  {
   "cell_type": "code",
   "execution_count": null,
   "metadata": {
    "collapsed": true
   },
   "outputs": [],
   "source": [
    "# or start with something simple: constant target\n",
    "target_const = np.vstack((70.0*np.ones(len(times)), 50.0*np.ones(len(times))))"
   ]
  },
  {
   "cell_type": "code",
   "execution_count": null,
   "metadata": {
    "collapsed": true
   },
   "outputs": [],
   "source": [
    "# or something simple but not trivial: steps\n",
    "target_piece = np.vstack((\n",
    "    np.hstack((20.0*np.ones(len(times)/2), 100.0*np.ones(len(times)/2))),\n",
    "    np.hstack((60.0*np.ones(len(times)/2), 30.0*np.ones(len(times)/2)))))"
   ]
  },
  {
   "cell_type": "code",
   "execution_count": null,
   "metadata": {
    "collapsed": true
   },
   "outputs": [],
   "source": [
    "targets = {'complex': target_complex, 'piece': target_piece, 'constant': target_const}"
   ]
  },
  {
   "cell_type": "markdown",
   "metadata": {},
   "source": [
    "### Choose target"
   ]
  },
  {
   "cell_type": "code",
   "execution_count": null,
   "metadata": {
    "collapsed": true
   },
   "outputs": [],
   "source": [
    "# choose one target\n",
    "target_choice = 'complex'\n",
    "#target_choice = 'constant'"
   ]
  },
  {
   "cell_type": "code",
   "execution_count": null,
   "metadata": {
    "collapsed": false
   },
   "outputs": [],
   "source": [
    "target = copy.copy(targets[target_choice])\n",
    "\n",
    "# make sure the target smoothly goes to zero at the edges\n",
    "# this is to match the spiking simulation, which needs some time to ramp\n",
    "# up in the beginning and time to ramp down at the end\n",
    "edge_duration = 100.0 # ms\n",
    "edge_len = int(edge_duration/dt)\n",
    "tapering_x = np.linspace(0.0, 1.0, edge_len, endpoint=False)\n",
    "tapering = (3 - 2*tapering_x)*tapering_x**2\n",
    "target[:, :edge_len] *= tapering\n",
    "target[:, -edge_len:] *= tapering[::-1]"
   ]
  },
  {
   "cell_type": "markdown",
   "metadata": {},
   "source": [
    "# General definitions"
   ]
  },
  {
   "cell_type": "code",
   "execution_count": null,
   "metadata": {
    "collapsed": true
   },
   "outputs": [],
   "source": [
    "class ProgressBar(object):\n",
    "    \n",
    "    \"\"\" A callable that displays a widget progress bar and can also make a plot showing\n",
    "    the learning trace.\n",
    "    \"\"\"\n",
    "    \n",
    "    def __init__(self, simulator, show_graph=True, graph_step=20, max_error=1000):\n",
    "        self.t0 = None\n",
    "        self.float = None\n",
    "        self.show_graph = show_graph\n",
    "        self.graph_step = graph_step\n",
    "        self.simulator = simulator\n",
    "        self.max_error = max_error\n",
    "        self.print_last = True\n",
    "    \n",
    "    def __call__(self, i, n):\n",
    "        t = time.time()\n",
    "        if self.t0 is None:\n",
    "            self.t0 = t\n",
    "        t_diff = t - self.t0\n",
    "        \n",
    "        current_res = self.simulator._current_res\n",
    "        \n",
    "        text = 'step: {} ; time elapsed: {:.1f}s'.format(i, t_diff)\n",
    "        \n",
    "        if len(current_res) > 0:\n",
    "            last_error = current_res[-1]['average_error']\n",
    "            if last_error <= self.max_error:\n",
    "                text += ' ; last error: {:.2f}'.format(last_error)\n",
    "            else:\n",
    "                text += ' ; last error: very large'\n",
    "        if self.float is None:\n",
    "            self.float = FloatProgress(min=0, max=100)\n",
    "            display(self.float)\n",
    "        else:\n",
    "            percentage = min(round(i*100.0/n), 100)\n",
    "            self.float.value = percentage\n",
    "            \n",
    "        self.float.description = text\n",
    "            \n",
    "        if self.show_graph and (i % self.graph_step == 0 or i == n):\n",
    "            crt_res = [_['average_error'] for _ in current_res]\n",
    "            plt.plot(range(len(crt_res)), crt_res, '.-k')\n",
    "            plt.xlim(0, n-1)\n",
    "            plt.xlabel('repetition')\n",
    "            plt.ylabel('error')\n",
    "\n",
    "            if len(crt_res) > 0:\n",
    "                if i < 100:\n",
    "                    plt.ylim(np.min(crt_res) - 0.1, np.max(crt_res) + 0.1)\n",
    "                else:\n",
    "                    plt.ylim(0, np.max(crt_res))\n",
    "            else:\n",
    "                plt.ylim(0, 1)\n",
    "\n",
    "            clear_output(wait=True)\n",
    "            if i < n:\n",
    "                display(plt.gcf())\n",
    "        \n",
    "        if i == n:\n",
    "            self.float.close()\n",
    "            if self.print_last:\n",
    "                print(text)"
   ]
  },
  {
   "cell_type": "code",
   "execution_count": null,
   "metadata": {
    "collapsed": true
   },
   "outputs": [],
   "source": [
    "def tracker_generator(simulator, i, n):\n",
    "    \"\"\" Generate some trackers. \"\"\"\n",
    "    res = {}\n",
    "    if i % 10 == 0:\n",
    "        res['tutor'] = simulation.StateMonitor(simulator.tutor, 'out')\n",
    "        res['student_spike'] = simulation.EventMonitor(simulator.student)\n",
    "        res['motor'] = simulation.StateMonitor(simulator.motor, 'out')\n",
    "    \n",
    "    return res\n",
    "\n",
    "def snapshot_generator_pre(simulator, i, n):\n",
    "    \"\"\" Generate some pre-run snapshots. \"\"\"\n",
    "    res = {}\n",
    "    if i % 50 == 0:\n",
    "        res['weights'] = np.copy(simulator.conductor_synapses.W)\n",
    "    \n",
    "    return res"
   ]
  },
  {
   "cell_type": "markdown",
   "metadata": {},
   "source": [
    "\n",
    "# Create default parameters file"
   ]
  },
  {
   "cell_type": "code",
   "execution_count": null,
   "metadata": {
    "collapsed": false
   },
   "outputs": [],
   "source": [
    "# start with the best parameters from the experiment matcher\n",
    "best_params_file = 'best_params_joint.pkl'\n",
    "with open(best_params_file, 'rb') as inp:\n",
    "    best_params_full = pickle.load(inp)\n",
    "\n",
    "# keep the values for the juvenile bird\n",
    "default_params = {}\n",
    "for key, value in best_params_full.items():\n",
    "    pound_i = key.find('##')\n",
    "    if pound_i >= 0:\n",
    "        if int(key[pound_i+2:]) > 0:\n",
    "            # this is not for the juvenile\n",
    "            continue\n",
    "        key = key[:pound_i]\n",
    "    \n",
    "    default_params[key] = value\n",
    "\n",
    "# add the target, and make sure we have the right tmax and dt\n",
    "default_params['target'] = target\n",
    "default_params['tmax'] = tmax\n",
    "default_params['dt'] = dt\n",
    "\n",
    "# the number of student neuros per output doesn't have to be so high\n",
    "default_params['n_student_per_output'] = 40\n",
    "\n",
    "# the best_params file also has no learning, so let's set better defaults there\n",
    "default_params['plasticity_learning_rate'] = 0.6e-9\n",
    "default_params['plasticity_constrain_positive'] = True\n",
    "default_params['plasticity_taus'] = (80.0, 40.0)\n",
    "default_params['plasticity_params'] = (1.0, 0.0)\n",
    "\n",
    "default_params.pop('tutor_rule_gain', None)\n",
    "default_params['tutor_rule_gain_per_student'] = 0.5\n",
    "default_params['tutor_rule_tau'] = 0.0\n",
    "\n",
    "# the best_params also didn't care about the controller -- let's se tthat\n",
    "default_params['controller_mode'] = 'sum'\n",
    "default_params['controller_scale'] = 0.5\n",
    "\n",
    "# save!\n",
    "defaults_name = 'default_params.pkl'\n",
    "if not os.path.exists(defaults_name):\n",
    "    with open(defaults_name, 'wb') as out:\n",
    "        pickle.dump(default_params, out, 2)\n",
    "else:\n",
    "    raise Exception('File exists!')"
   ]
  },
  {
   "cell_type": "markdown",
   "metadata": {},
   "source": [
    "# Generate data for figures"
   ]
  },
  {
   "cell_type": "markdown",
   "metadata": {},
   "source": [
    "## Learning curve (blackbox)"
   ]
  },
  {
   "cell_type": "code",
   "execution_count": null,
   "metadata": {
    "collapsed": true
   },
   "outputs": [],
   "source": [
    "def tracker_generator(simulator, i, n):\n",
    "    \"\"\" Generate some trackers. \"\"\"\n",
    "    res = {}\n",
    "    res['motor'] = simulation.StateMonitor(simulator.motor, 'out')\n",
    "    res['student_spike'] = simulation.EventMonitor(simulator.student)\n",
    "    if i % 10 == 0:\n",
    "        res['tutor'] = simulation.StateMonitor(simulator.tutor, 'out')\n",
    "        res['conductor'] = simulation.StateMonitor(simulator.conductor, 'out')\n",
    "        res['student'] = simulation.StateMonitor(simulator.student, 'out')\n",
    "        res['conductor_spike'] = simulation.EventMonitor(simulator.conductor)\n",
    "    \n",
    "    return res\n",
    "\n",
    "def snapshot_generator_pre(simulator, i, n):\n",
    "    \"\"\" Generate some pre-run snapshots. \"\"\"\n",
    "    res = {}\n",
    "    if i % 10 == 0:\n",
    "        res['weights'] = np.copy(simulator.conductor_synapses.W)\n",
    "    \n",
    "    return res"
   ]
  },
  {
   "cell_type": "code",
   "execution_count": null,
   "metadata": {
    "collapsed": true
   },
   "outputs": [],
   "source": [
    "# load the default parameters\n",
    "with open('default_params.pkl', 'rb') as inp:\n",
    "    default_params = pickle.load(inp)"
   ]
  },
  {
   "cell_type": "code",
   "execution_count": null,
   "metadata": {
    "collapsed": false
   },
   "outputs": [],
   "source": [
    "# keep things arbitrary but reproducible\n",
    "np.random.seed(12314)\n",
    "\n",
    "actual_params = dict(default_params)\n",
    "actual_params['plasticity_params'] = (1.0, 0.0)\n",
    "actual_params['tutor_rule_tau'] = 80.0\n",
    "actual_params['progress_indicator'] = ProgressBar\n",
    "actual_params['tracker_generator'] = tracker_generator\n",
    "actual_params['snapshot_generator'] = snapshot_generator_pre\n",
    "simulator = SpikingLearningSimulation(**actual_params)"
   ]
  },
  {
   "cell_type": "code",
   "execution_count": null,
   "metadata": {
    "collapsed": false
   },
   "outputs": [],
   "source": [
    "res = simulator.run(200)"
   ]
  },
  {
   "cell_type": "code",
   "execution_count": null,
   "metadata": {
    "collapsed": false
   },
   "outputs": [],
   "source": [
    "file_name = 'save/spiking_example.pkl'\n",
    "if not os.path.exists(file_name):\n",
    "    with open(file_name, 'wb') as out:\n",
    "        pickle.dump({'params': actual_params, 'res': res}, out, 2)\n",
    "else:\n",
    "    raise Exception('File exists!')"
   ]
  },
  {
   "cell_type": "code",
   "execution_count": null,
   "metadata": {
    "collapsed": false
   },
   "outputs": [],
   "source": [
    "plot_evolution(res, target, dt)"
   ]
  },
  {
   "cell_type": "code",
   "execution_count": null,
   "metadata": {
    "collapsed": false
   },
   "outputs": [],
   "source": [
    "show_repetition_pattern([_['student_spike'] for _ in res[-10:]], idx=range(10), ms=2.0)\n",
    "plt.xlim(0, tmax)\n",
    "crt_times0 = np.asarray(res[-1]['student_spike'].t)\n",
    "crt_times = crt_times0[crt_times0 < tmax]\n",
    "print('Average firing rate {:.2f} Hz.').format(len(crt_times)*1000.0/tmax/simulator.student.N)"
   ]
  },
  {
   "cell_type": "markdown",
   "metadata": {},
   "source": [
    "## Learning curve blackbox, realistic target"
   ]
  },
  {
   "cell_type": "code",
   "execution_count": null,
   "metadata": {
    "collapsed": false
   },
   "outputs": [],
   "source": [
    "# add some noise, but keep things reproducible\n",
    "np.random.seed(0)\n",
    "\n",
    "smoothlen = 400\n",
    "\n",
    "realTarget1 = np.zeros(len(times))\n",
    "realTarget1[int_r(50.0/dt):int_r(65.0/dt)] = 90.0\n",
    "realTarget1[int_r(65.0/dt):int_r(75.0/dt)] = 20.0\n",
    "realTarget1[int_r(75.0/dt):int_r(100.0/dt)] = 90.0\n",
    "\n",
    "realTarget1[int_r(125.0/dt):int_r(150.0/dt)] = 80.0\n",
    "realTarget1[int_r(150.0/dt):int_r(160.0/dt)] = 40.0\n",
    "\n",
    "realTarget1[int_r(250.0/dt):int_r(280.0/dt)] = 80.0\n",
    "realTarget1[int_r(305.0/dt):int_r(320.0/dt)] = 70.0\n",
    "\n",
    "realTarget1[int_r(350.0/dt):int_r(360.0/dt)] = 90.0\n",
    "\n",
    "realTarget1[int_r(410.0/dt):int_r(450.0/dt)] = 100.0\n",
    "realTarget1[int_r(450.0/dt):int_r(470.0/dt)] = 60.0\n",
    "\n",
    "realTarget1[int_r(500.0/dt):int_r(540.0/dt)] = 80.0\n",
    "\n",
    "realTarget1 = np.convolve(realTarget1,\n",
    "                          np.exp(-0.5*np.linspace(-3.0, 3.0, smoothlen)**2)/np.sqrt(2*np.pi)/80,\n",
    "                          mode='same')\n",
    "\n",
    "realTarget2 = np.zeros(len(times))\n",
    "realTarget2[int_r(60.0/dt):int_r(75.0/dt)] = 90.0\n",
    "realTarget2[int_r(100.0/dt):int_r(115.0/dt)] = 100.0\n",
    "\n",
    "realTarget2[int_r(265.0/dt):int_r(290.0/dt)] = 90.0\n",
    "realTarget2[int_r(320.0/dt):int_r(330.0/dt)] = 40.0\n",
    "realTarget2[int_r(330.0/dt):int_r(365.0/dt)] = 100.0\n",
    "realTarget2[int_r(385.0/dt):int_r(400.0/dt)] = 90.0\n",
    "\n",
    "realTarget2[int_r(415.0/dt):int_r(450.0/dt)] = 80.0\n",
    "realTarget2[int_r(470.0/dt):int_r(480.0/dt)] = 80.0\n",
    "\n",
    "realTarget2[int_r(520.0/dt):int_r(540.0/dt)] = 90.0\n",
    "\n",
    "realTarget2 = np.convolve(realTarget2,\n",
    "                          np.exp(-0.5*np.linspace(-3.0, 3.0, smoothlen)**2)/np.sqrt(2*np.pi)/80,\n",
    "                          mode='same')\n",
    "\n",
    "realTarget3 = np.zeros(len(times))\n",
    "realTarget3[int_r(70.0/dt):int_r(100.0/dt)] = 100.0\n",
    "\n",
    "realTarget3[int_r(160.0/dt):int_r(180.0/dt)] = 100.0\n",
    "\n",
    "realTarget3[int_r(260.0/dt):int_r(275.0/dt)] = 100.0\n",
    "\n",
    "realTarget3[int_r(285.0/dt):int_r(310.0/dt)] = 100.0\n",
    "\n",
    "realTarget3[int_r(340.0/dt):int_r(360.0/dt)] = 100.0\n",
    "\n",
    "realTarget3[int_r(435.0/dt):int_r(470.0/dt)] = 90.0\n",
    "\n",
    "realTarget3[int_r(530.0/dt):int_r(540.0/dt)] = 80.0\n",
    "\n",
    "realTarget3 = np.convolve(realTarget3,\n",
    "                          np.exp(-0.5*np.linspace(-3.0, 3.0, smoothlen)**2)/np.sqrt(2*np.pi)/80,\n",
    "                          mode='same')\n",
    "\n",
    "realTarget4 = np.zeros(len(times))\n",
    "realTarget4[int_r(50.0/dt):int_r(65.0/dt)] = 30.0\n",
    "realTarget4[int_r(65.0/dt):int_r(85.0/dt)] = 100.0\n",
    "\n",
    "realTarget4[int_r(135.0/dt):int_r(150.0/dt)] = 90.0\n",
    "\n",
    "realTarget4[int_r(285.0/dt):int_r(300.0/dt)] = 90.0\n",
    "\n",
    "realTarget4[int_r(385.0/dt):int_r(405.0/dt)] = 60.0\n",
    "\n",
    "realTarget4[int_r(430.0/dt):int_r(450.0/dt)] = 100.0\n",
    "\n",
    "realTarget4[int_r(525.0/dt):int_r(540.0/dt)] = 70.0\n",
    "\n",
    "realTarget4 = np.convolve(realTarget4,\n",
    "                          np.exp(-0.5*np.linspace(-3.0, 3.0, smoothlen)**2)/np.sqrt(2*np.pi)/80,\n",
    "                          mode='same')\n",
    "\n",
    "realTarget5 = np.zeros(len(times))\n",
    "realTarget5[int_r(75.0/dt):int_r(85.0/dt)] = 20.0\n",
    "realTarget5[int_r(115.0/dt):int_r(130.0/dt)] = 60.0\n",
    "\n",
    "realTarget5[int_r(180.0/dt):int_r(200.0/dt)] = 90.0\n",
    "realTarget5[int_r(265.0/dt):int_r(290.0/dt)] = 100.0\n",
    "realTarget5[int_r(325.0/dt):int_r(350.0/dt)] = 70.0\n",
    "\n",
    "realTarget5[int_r(410.0/dt):int_r(420.0/dt)] = 80.0\n",
    "realTarget5[int_r(440.0/dt):int_r(455.0/dt)] = 70.0\n",
    "\n",
    "realTarget5[int_r(535.0/dt):int_r(545.0/dt)] = 20.0\n",
    "\n",
    "realTarget5 = np.convolve(realTarget5,\n",
    "                          np.exp(-0.5*np.linspace(-3.0, 3.0, smoothlen)**2)/np.sqrt(2*np.pi)/80,\n",
    "                          mode='same')"
   ]
  },
  {
   "cell_type": "code",
   "execution_count": null,
   "metadata": {
    "collapsed": true
   },
   "outputs": [],
   "source": [
    "realTarget = np.vstack((realTarget1, realTarget2, realTarget3, realTarget4, realTarget5))"
   ]
  },
  {
   "cell_type": "code",
   "execution_count": null,
   "metadata": {
    "collapsed": true
   },
   "outputs": [],
   "source": [
    "def tracker_generator(simulator, i, n):\n",
    "    \"\"\" Generate some trackers. \"\"\"\n",
    "    res = {}\n",
    "    res['motor'] = simulation.StateMonitor(simulator.motor, 'out')\n",
    "    res['student_spike'] = simulation.EventMonitor(simulator.student)\n",
    "    if i % 10 == 0:\n",
    "        res['tutor'] = simulation.StateMonitor(simulator.tutor, 'out')\n",
    "        res['conductor'] = simulation.StateMonitor(simulator.conductor, 'out')\n",
    "        res['student'] = simulation.StateMonitor(simulator.student, 'out')\n",
    "        res['conductor_spike'] = simulation.EventMonitor(simulator.conductor)\n",
    "    \n",
    "    return res\n",
    "\n",
    "def snapshot_generator_pre(simulator, i, n):\n",
    "    \"\"\" Generate some pre-run snapshots. \"\"\"\n",
    "    res = {}\n",
    "    if i % 10 == 0:\n",
    "        res['weights'] = np.copy(simulator.conductor_synapses.W)\n",
    "    \n",
    "    return res"
   ]
  },
  {
   "cell_type": "code",
   "execution_count": null,
   "metadata": {
    "collapsed": true
   },
   "outputs": [],
   "source": [
    "# load the default parameters\n",
    "with open('default_params.pkl', 'rb') as inp:\n",
    "    default_params = pickle.load(inp)"
   ]
  },
  {
   "cell_type": "code",
   "execution_count": null,
   "metadata": {
    "collapsed": false
   },
   "outputs": [],
   "source": [
    "# keep things arbitrary but reproducible\n",
    "np.random.seed(12314)\n",
    "\n",
    "actual_params = dict(default_params)\n",
    "\n",
    "actual_params['target'] = realTarget\n",
    "\n",
    "actual_params['plasticity_params'] = (1.0, 0.0)\n",
    "actual_params['tutor_rule_tau'] = 80.0\n",
    "actual_params['progress_indicator'] = ProgressBar\n",
    "actual_params['tracker_generator'] = tracker_generator\n",
    "actual_params['snapshot_generator'] = snapshot_generator_pre\n",
    "\n",
    "actual_params['tutor_rule_gain_per_student'] = 1.0\n",
    "actual_params['plasticity_learning_rate'] = 1e-9\n",
    "\n",
    "#actual_params['n_student_per_output'] = 10\n",
    "#actual_params['controller_scale'] = 0.5*4\n",
    "\n",
    "simulator = SpikingLearningSimulation(**actual_params)"
   ]
  },
  {
   "cell_type": "code",
   "execution_count": null,
   "metadata": {
    "collapsed": false
   },
   "outputs": [],
   "source": [
    "res = simulator.run(600)"
   ]
  },
  {
   "cell_type": "code",
   "execution_count": null,
   "metadata": {
    "collapsed": false
   },
   "outputs": [],
   "source": [
    "file_name = 'save/spiking_example_realistic.pkl'\n",
    "if not os.path.exists(file_name):\n",
    "    with open(file_name, 'wb') as out:\n",
    "        pickle.dump({'params': actual_params, 'res': res}, out, 2)\n",
    "else:\n",
    "    raise Exception('File exists!')"
   ]
  },
  {
   "cell_type": "code",
   "execution_count": null,
   "metadata": {
    "collapsed": false
   },
   "outputs": [],
   "source": [
    "plot_evolution(res, realTarget, dt)"
   ]
  },
  {
   "cell_type": "markdown",
   "metadata": {},
   "source": [
    "## Learning curve (blackbox), constant inhibition"
   ]
  },
  {
   "cell_type": "code",
   "execution_count": null,
   "metadata": {
    "collapsed": true
   },
   "outputs": [],
   "source": [
    "def tracker_generator(simulator, i, n):\n",
    "    \"\"\" Generate some trackers. \"\"\"\n",
    "    res = {}\n",
    "    res['motor'] = simulation.StateMonitor(simulator.motor, 'out')\n",
    "    res['student_spike'] = simulation.EventMonitor(simulator.student)\n",
    "    if i % 10 == 0:\n",
    "        res['tutor'] = simulation.StateMonitor(simulator.tutor, 'out')\n",
    "        res['conductor'] = simulation.StateMonitor(simulator.conductor, 'out')\n",
    "        res['student'] = simulation.StateMonitor(simulator.student, 'out')\n",
    "        res['conductor_spike'] = simulation.EventMonitor(simulator.conductor)\n",
    "    \n",
    "    return res\n",
    "\n",
    "def snapshot_generator_pre(simulator, i, n):\n",
    "    \"\"\" Generate some pre-run snapshots. \"\"\"\n",
    "    res = {}\n",
    "    if i % 10 == 0:\n",
    "        res['weights'] = np.copy(simulator.conductor_synapses.W)\n",
    "    \n",
    "    return res"
   ]
  },
  {
   "cell_type": "code",
   "execution_count": null,
   "metadata": {
    "collapsed": true
   },
   "outputs": [],
   "source": [
    "# load the default parameters\n",
    "with open('default_params.pkl', 'rb') as inp:\n",
    "    default_params = pickle.load(inp)"
   ]
  },
  {
   "cell_type": "code",
   "execution_count": null,
   "metadata": {
    "collapsed": false
   },
   "outputs": [],
   "source": [
    "# keep things arbitrary but reproducible\n",
    "np.random.seed(12314)\n",
    "\n",
    "actual_params = dict(default_params)\n",
    "actual_params['plasticity_params'] = (1.0, 0.0)\n",
    "actual_params['tutor_rule_tau'] = 80.0\n",
    "actual_params['progress_indicator'] = ProgressBar\n",
    "actual_params['tracker_generator'] = tracker_generator\n",
    "actual_params['snapshot_generator'] = snapshot_generator_pre\n",
    "actual_params['student_g_inh'] = 0\n",
    "actual_params['student_i_external'] = -0.23\n",
    "simulator = SpikingLearningSimulation(**actual_params)"
   ]
  },
  {
   "cell_type": "code",
   "execution_count": null,
   "metadata": {
    "collapsed": false
   },
   "outputs": [],
   "source": [
    "res = simulator.run(200)"
   ]
  },
  {
   "cell_type": "code",
   "execution_count": null,
   "metadata": {
    "collapsed": false
   },
   "outputs": [],
   "source": [
    "file_name = 'save/spiking_example_const_inh.pkl'\n",
    "if not os.path.exists(file_name):\n",
    "    with open(file_name, 'wb') as out:\n",
    "        pickle.dump({'params': actual_params, 'res': res}, out, 2)\n",
    "else:\n",
    "    raise Exception('File exists!')"
   ]
  },
  {
   "cell_type": "code",
   "execution_count": null,
   "metadata": {
    "collapsed": false
   },
   "outputs": [],
   "source": [
    "plot_evolution(res, target, dt)"
   ]
  },
  {
   "cell_type": "markdown",
   "metadata": {
    "collapsed": true
   },
   "source": [
    "## Reinforcement example (0 ms)"
   ]
  },
  {
   "cell_type": "code",
   "execution_count": null,
   "metadata": {
    "collapsed": true
   },
   "outputs": [],
   "source": [
    "def tracker_generator(simulator, i, n):\n",
    "    \"\"\" Generate some trackers. \"\"\"\n",
    "    res = {}\n",
    "    if i % 10 == 0:\n",
    "        res['tutor'] = simulation.StateMonitor(simulator.tutor, 'out')\n",
    "        res['student_spike'] = simulation.EventMonitor(simulator.student)\n",
    "        res['motor'] = simulation.StateMonitor(simulator.motor, 'out')\n",
    "    \n",
    "    return res\n",
    "\n",
    "def snapshot_generator_pre(simulator, i, n):\n",
    "    \"\"\" Generate some pre-run snapshots. \"\"\"\n",
    "    res = {}\n",
    "    if i % 50 == 0:\n",
    "        res['weights'] = np.copy(simulator.conductor_synapses.W)\n",
    "    \n",
    "    return res"
   ]
  },
  {
   "cell_type": "code",
   "execution_count": null,
   "metadata": {
    "collapsed": true
   },
   "outputs": [],
   "source": [
    "# load the default parameters\n",
    "with open('default_params.pkl', 'rb') as inp:\n",
    "    default_params = pickle.load(inp)"
   ]
  },
  {
   "cell_type": "code",
   "execution_count": null,
   "metadata": {
    "collapsed": false
   },
   "outputs": [],
   "source": [
    "# keep things arbitrary but reproducible\n",
    "np.random.seed(212312)\n",
    "\n",
    "args = dict(default_params)\n",
    "\n",
    "args['relaxation'] = 200.0\n",
    "args['relaxation_conductor'] = 200.0\n",
    "\n",
    "args['tutor_tau_out'] = 40.0\n",
    "args['tutor_rule_type'] = 'reinforcement'\n",
    "args['tutor_rule_learning_rate'] = 0.004\n",
    "args['tutor_rule_compress_rates'] = True\n",
    "args['tutor_rule_relaxation'] = None\n",
    "args['tutor_rule_tau'] = 0.0\n",
    "\n",
    "args['plasticity_params'] = (1.0, 0.0)\n",
    "args['plasticity_constrain_positive'] = True\n",
    "args['plasticity_learning_rate'] = 7e-10\n",
    "\n",
    "\n",
    "args_actual = dict(args)\n",
    "args_actual['tracker_generator'] = tracker_generator\n",
    "args_actual['snapshot_generator'] = snapshot_generator_pre\n",
    "args_actual['progress_indicator'] = ProgressBar\n",
    "\n",
    "simulator = SpikingLearningSimulation(**args_actual)"
   ]
  },
  {
   "cell_type": "code",
   "execution_count": null,
   "metadata": {
    "collapsed": false
   },
   "outputs": [],
   "source": [
    "res = simulator.run(10000)"
   ]
  },
  {
   "cell_type": "code",
   "execution_count": null,
   "metadata": {
    "collapsed": false
   },
   "outputs": [],
   "source": [
    "# save!\n",
    "file_name = 'save/reinforcement_example_0ms.pkl'\n",
    "if not os.path.exists(file_name):\n",
    "    with open(file_name, 'wb') as out:\n",
    "        pickle.dump({'res': res, 'args': args}, out, 2)\n",
    "else:\n",
    "    raise Exception('File exists!')"
   ]
  },
  {
   "cell_type": "markdown",
   "metadata": {
    "collapsed": true
   },
   "source": [
    "## Reinforcement example (80 ms)"
   ]
  },
  {
   "cell_type": "code",
   "execution_count": null,
   "metadata": {
    "collapsed": true
   },
   "outputs": [],
   "source": [
    "def tracker_generator(simulator, i, n):\n",
    "    \"\"\" Generate some trackers. \"\"\"\n",
    "    res = {}\n",
    "    if i % 10 == 0:\n",
    "        res['tutor'] = simulation.StateMonitor(simulator.tutor, 'out')\n",
    "        res['student_spike'] = simulation.EventMonitor(simulator.student)\n",
    "        res['motor'] = simulation.StateMonitor(simulator.motor, 'out')\n",
    "    \n",
    "    return res\n",
    "\n",
    "def snapshot_generator_pre(simulator, i, n):\n",
    "    \"\"\" Generate some pre-run snapshots. \"\"\"\n",
    "    res = {}\n",
    "    if i % 50 == 0:\n",
    "        res['weights'] = np.copy(simulator.conductor_synapses.W)\n",
    "    \n",
    "    return res"
   ]
  },
  {
   "cell_type": "code",
   "execution_count": null,
   "metadata": {
    "collapsed": false
   },
   "outputs": [],
   "source": [
    "# keep things arbitrary but reproducible\n",
    "np.random.seed(212312)\n",
    "\n",
    "args = dict(\n",
    "        target=target, tmax=tmax, dt=dt,\n",
    "        n_conductor=300, n_student_per_output=40,\n",
    "        relaxation=200.0, relaxation_conductor=200.0, # XXX different from blackbox!\n",
    "        conductor_rate_during_burst=769.7,\n",
    "        controller_mode='sum',\n",
    "        controller_scale=0.5,\n",
    "        tutor_tau_out=40.0,\n",
    "        tutor_rule_type='reinforcement',\n",
    "        tutor_rule_learning_rate=0.006,\n",
    "        tutor_rule_compress_rates=True,\n",
    "        tutor_rule_tau=80.0,\n",
    "        tutor_rule_relaxation=None,                   # XXX different from blackbox!\n",
    "        cs_weights_fraction=0.488, ts_weights=0.100,\n",
    "        plasticity_constrain_positive=True,\n",
    "        plasticity_learning_rate=6e-10,\n",
    "        plasticity_taus=(80.0, 40.0),\n",
    "        plasticity_params=(1.0, 0.0),\n",
    "        student_R=383.4, student_g_inh=1.406,\n",
    "        student_tau_ampa=5.390, student_tau_nmda=81.92,\n",
    "        student_tau_m=20.31, student_tau_ref=1.703,\n",
    "        student_vR=-74.39, student_v_th=-45.47\n",
    "    )\n",
    "\n",
    "args_actual = dict(args)\n",
    "args_actual['tracker_generator'] = tracker_generator\n",
    "args_actual['snapshot_generator'] = snapshot_generator_pre\n",
    "args_actual['progress_indicator'] = ProgressBar\n",
    "\n",
    "simulator = SpikingLearningSimulation(**args_actual)"
   ]
  },
  {
   "cell_type": "code",
   "execution_count": null,
   "metadata": {
    "collapsed": false
   },
   "outputs": [],
   "source": [
    "res = simulator.run(16000)"
   ]
  },
  {
   "cell_type": "code",
   "execution_count": null,
   "metadata": {
    "collapsed": false
   },
   "outputs": [],
   "source": [
    "# save!\n",
    "file_name = 'save/reinforcement_example_80ms.pkl'\n",
    "if not os.path.exists(file_name):\n",
    "    with open(file_name, 'wb') as out:\n",
    "        pickle.dump({'res': res, 'args': args}, out, 2)\n",
    "else:\n",
    "    raise Exception('File exists!')"
   ]
  },
  {
   "cell_type": "code",
   "execution_count": null,
   "metadata": {
    "collapsed": false
   },
   "outputs": [],
   "source": [
    "plot_evolution(res, target, dt)"
   ]
  },
  {
   "cell_type": "markdown",
   "metadata": {
    "collapsed": true
   },
   "source": [
    "## Reinforcement example (alpha=10, beta=9, tau=440 ms)"
   ]
  },
  {
   "cell_type": "code",
   "execution_count": null,
   "metadata": {
    "collapsed": true
   },
   "outputs": [],
   "source": [
    "def tracker_generator(simulator, i, n):\n",
    "    \"\"\" Generate some trackers. \"\"\"\n",
    "    res = {}\n",
    "    if i % 10 == 0:\n",
    "        res['tutor'] = simulation.StateMonitor(simulator.tutor, 'out')\n",
    "        res['student_spike'] = simulation.EventMonitor(simulator.student)\n",
    "        res['motor'] = simulation.StateMonitor(simulator.motor, 'out')\n",
    "    \n",
    "    return res\n",
    "\n",
    "def snapshot_generator_pre(simulator, i, n):\n",
    "    \"\"\" Generate some pre-run snapshots. \"\"\"\n",
    "    res = {}\n",
    "    if i % 50 == 0:\n",
    "        res['weights'] = np.copy(simulator.conductor_synapses.W)\n",
    "    \n",
    "    return res"
   ]
  },
  {
   "cell_type": "code",
   "execution_count": null,
   "metadata": {
    "collapsed": false
   },
   "outputs": [],
   "source": [
    "# keep things arbitrary but reproducible\n",
    "np.random.seed(12234)\n",
    "\n",
    "args = dict(default_params)\n",
    "\n",
    "args['relaxation'] = 200.0\n",
    "args['relaxation_conductor'] = 200.0\n",
    "\n",
    "args['tutor_tau_out'] = 40.0\n",
    "args['tutor_rule_type'] = 'reinforcement'\n",
    "args['tutor_rule_learning_rate'] = 0.004\n",
    "args['tutor_rule_compress_rates'] = True\n",
    "args['tutor_rule_relaxation'] = None\n",
    "args['tutor_rule_tau'] = 440.0\n",
    "\n",
    "args['plasticity_params'] = (10.0, 9.0)\n",
    "args['plasticity_constrain_positive'] = True\n",
    "args['plasticity_learning_rate'] = 7e-10\n",
    "\n",
    "args_actual = dict(args)\n",
    "args_actual['tracker_generator'] = tracker_generator\n",
    "args_actual['snapshot_generator'] = snapshot_generator_pre\n",
    "args_actual['progress_indicator'] = ProgressBar\n",
    "\n",
    "simulator = SpikingLearningSimulation(**args_actual)\n"
   ]
  },
  {
   "cell_type": "code",
   "execution_count": null,
   "metadata": {
    "collapsed": false
   },
   "outputs": [],
   "source": [
    "res = simulator.run(10000)"
   ]
  },
  {
   "cell_type": "code",
   "execution_count": null,
   "metadata": {
    "collapsed": false
   },
   "outputs": [],
   "source": [
    "# save!\n",
    "file_name = 'save/reinforcement_example_a10b9_440ms.pkl'\n",
    "if not os.path.exists(file_name):\n",
    "    with open(file_name, 'wb') as out:\n",
    "        pickle.dump({'res': res, 'args': args}, out, 2)\n",
    "else:\n",
    "    raise Exception('File exists!')"
   ]
  },
  {
   "cell_type": "code",
   "execution_count": null,
   "metadata": {
    "collapsed": false
   },
   "outputs": [],
   "source": [
    "plot_evolution(res, target, dt)"
   ]
  },
  {
   "cell_type": "markdown",
   "metadata": {
    "collapsed": true
   },
   "source": [
    "# Make figures"
   ]
  },
  {
   "cell_type": "markdown",
   "metadata": {},
   "source": [
    "## Tutor-student mismatch heatmap and convergence map -- blackbox spiking"
   ]
  },
  {
   "cell_type": "markdown",
   "metadata": {},
   "source": [
    "The data for this needs to be generated using the `summarize.py` script from the results of the `run_tscale_batch.py` script, which is designed to run on a cluster."
   ]
  },
  {
   "cell_type": "code",
   "execution_count": null,
   "metadata": {
    "collapsed": false
   },
   "outputs": [],
   "source": [
    "file_name = 'spike_out/songspike_tscale_batch_8.8.160525.1530_summary.pkl'\n",
    "with open(file_name, 'rb') as inp:\n",
    "    mismatch_data = pickle.load(inp)"
   ]
  },
  {
   "cell_type": "code",
   "execution_count": null,
   "metadata": {
    "collapsed": false
   },
   "outputs": [],
   "source": [
    "make_heatmap_plot(mismatch_data['res_array'], args_matrix=mismatch_data['args_array'],\n",
    "                  vmin=1.0, vmax=10, sim_idx=250)\n",
    "safe_save_fig('figs/spiking_mismatch_heatmap_sum_log_8', png=False)"
   ]
  },
  {
   "cell_type": "code",
   "execution_count": null,
   "metadata": {
    "collapsed": false
   },
   "outputs": [],
   "source": [
    "make_convergence_map(mismatch_data['res_array'], args_matrix=mismatch_data['args_array'],\n",
    "                     max_steps=250)\n",
    "safe_save_fig('figs/spiking_mismatch_convmap_sum_log_8', png=False)"
   ]
  },
  {
   "cell_type": "markdown",
   "metadata": {},
   "source": [
    "## Tutor-student mismatch heatmap and convergence map -- reinforcement"
   ]
  },
  {
   "cell_type": "code",
   "execution_count": null,
   "metadata": {
    "collapsed": false
   },
   "outputs": [],
   "source": [
    "file_name = 'spike_out/song_reinf_tscale_batch_8.8.160607.1153_summary.pkl'\n",
    "with open(file_name, 'rb') as inp:\n",
    "    mismatch_data = pickle.load(inp)"
   ]
  },
  {
   "cell_type": "code",
   "execution_count": null,
   "metadata": {
    "collapsed": false
   },
   "outputs": [],
   "source": [
    "make_heatmap_plot(mismatch_data['res_array'], args_matrix=mismatch_data['args_array'],\n",
    "                  vmin=1.0, vmax=10)\n",
    "safe_save_fig('figs/reinforcement_mismatch_heatmap_sum_log_8', png=False)"
   ]
  },
  {
   "cell_type": "code",
   "execution_count": null,
   "metadata": {
    "collapsed": false
   },
   "outputs": [],
   "source": [
    "make_convergence_map(mismatch_data['res_array'], args_matrix=mismatch_data['args_array'], max_error=12)\n",
    "safe_save_fig('figs/reinforcement_mismatch_convmap_sum_log_8', png=False)"
   ]
  },
  {
   "cell_type": "markdown",
   "metadata": {
    "collapsed": true
   },
   "source": [
    "## Spiking example learning curve and raster plots"
   ]
  },
  {
   "cell_type": "code",
   "execution_count": null,
   "metadata": {
    "collapsed": false
   },
   "outputs": [],
   "source": [
    "with open('save/spiking_example.pkl', 'rb') as inp:\n",
    "    spiking_example_data = pickle.load(inp)"
   ]
  },
  {
   "cell_type": "code",
   "execution_count": null,
   "metadata": {
    "collapsed": false
   },
   "outputs": [],
   "source": [
    "fig = plt.figure(figsize=(3, 2))\n",
    "axs = draw_convergence_plot(spiking_example_data['res'], plt.gca(), target_lw=2,\n",
    "                        inset=True, inset_pos=[0.4, 0.4, 0.4, 0.4],\n",
    "                        alpha=spiking_example_data['params']['plasticity_params'][0],\n",
    "                        beta=spiking_example_data['params']['plasticity_params'][1],\n",
    "                        tau_tutor=spiking_example_data['params']['tutor_rule_tau'],\n",
    "                        target=spiking_example_data['params']['target'])\n",
    "\n",
    "axs[0].set_ylim(0, 15);\n",
    "\n",
    "\n",
    "safe_save_fig('figs/spiking_example_learning_curve', png=False)"
   ]
  },
  {
   "cell_type": "code",
   "execution_count": null,
   "metadata": {
    "collapsed": false
   },
   "outputs": [],
   "source": [
    "plt.figure(figsize=(3, 1))\n",
    "crt_res = spiking_example_data['res'][:5]\n",
    "show_repetition_pattern([_['student_spike'] for _ in crt_res], idx=[1, 47, 23, 65, 78], ms=1.0)\n",
    "plt.gca().spines['top'].set_color('none')\n",
    "plt.gca().spines['right'].set_color('none')\n",
    "plt.gca().spines['left'].set_color('none')\n",
    "plt.yticks([])\n",
    "plt.ylabel('')\n",
    "plt.xlim(0, tmax);\n",
    "\n",
    "print('Firing rate {:.2f} Hz.').format(get_firing_rate(crt_res[-1],\n",
    "                                                       spiking_example_data['params']['tmax']))\n",
    "\n",
    "safe_save_fig('figs/spiking_simraster_juvenile', png=False)"
   ]
  },
  {
   "cell_type": "code",
   "execution_count": null,
   "metadata": {
    "collapsed": false
   },
   "outputs": [],
   "source": [
    "plt.figure(figsize=(3, 1))\n",
    "crt_res = spiking_example_data['res'][-5:]\n",
    "show_repetition_pattern([_['student_spike'] for _ in crt_res], idx=[1, 47, 23, 65, 78], ms=1.0)\n",
    "plt.gca().spines['top'].set_color('none')\n",
    "plt.gca().spines['right'].set_color('none')\n",
    "plt.gca().spines['left'].set_color('none')\n",
    "plt.yticks([])\n",
    "plt.ylabel('')\n",
    "plt.xlim(0, tmax);\n",
    "\n",
    "print('Firing rate {:.2f} Hz.').format(get_firing_rate(crt_res[-1],\n",
    "                                                       spiking_example_data['params']['tmax']))\n",
    "\n",
    "safe_save_fig('figs/spiking_simraster_adult', png=False)"
   ]
  },
  {
   "cell_type": "markdown",
   "metadata": {
    "collapsed": true
   },
   "source": [
    "## Spiking example learning curve and raster plots, realistic target"
   ]
  },
  {
   "cell_type": "code",
   "execution_count": null,
   "metadata": {
    "collapsed": false
   },
   "outputs": [],
   "source": [
    "with open('save/spiking_example_realistic.pkl', 'rb') as inp:\n",
    "    spiking_example_data = pickle.load(inp)"
   ]
  },
  {
   "cell_type": "code",
   "execution_count": null,
   "metadata": {
    "collapsed": false
   },
   "outputs": [],
   "source": [
    "fig = plt.figure(figsize=(3, 2))\n",
    "axs = draw_convergence_plot(spiking_example_data['res'], plt.gca(), target_lw=2,\n",
    "                        inset=True, inset_pos=[0.4, 0.45, 0.4, 0.4],\n",
    "                        legend_pos=(0.7, 1.1),\n",
    "                        alpha=spiking_example_data['params']['plasticity_params'][0],\n",
    "                        beta=spiking_example_data['params']['plasticity_params'][1],\n",
    "                        tau_tutor=spiking_example_data['params']['tutor_rule_tau'],\n",
    "                        target=spiking_example_data['params']['target'])\n",
    "\n",
    "axs[0].set_ylim(0, 15);\n",
    "\n",
    "\n",
    "safe_save_fig('figs/spiking_example_realistic_learning_curve', png=False)"
   ]
  },
  {
   "cell_type": "code",
   "execution_count": null,
   "metadata": {
    "collapsed": false
   },
   "outputs": [],
   "source": [
    "plt.figure(figsize=(3, 1))\n",
    "crt_res = spiking_example_data['res'][:5]\n",
    "show_repetition_pattern([_['student_spike'] for _ in crt_res], idx=[1, 47, 87, 123, 165])\n",
    "plt.gca().spines['top'].set_color('none')\n",
    "plt.gca().spines['right'].set_color('none')\n",
    "plt.gca().spines['left'].set_color('none')\n",
    "plt.yticks([])\n",
    "plt.ylabel('')\n",
    "plt.xlim(0, tmax);\n",
    "\n",
    "print('Firing rate {:.2f} Hz.').format(get_firing_rate(crt_res[-1],\n",
    "                                                       spiking_example_data['params']['tmax']))\n",
    "\n",
    "safe_save_fig('figs/spiking_simraster_realistic_juvenile', png=False)"
   ]
  },
  {
   "cell_type": "code",
   "execution_count": null,
   "metadata": {
    "collapsed": false
   },
   "outputs": [],
   "source": [
    "plt.figure(figsize=(3, 1))\n",
    "crt_res = spiking_example_data['res'][-5:]\n",
    "show_repetition_pattern([_['student_spike'] for _ in crt_res], idx=[1, 47, 87, 123, 165])\n",
    "plt.gca().spines['top'].set_color('none')\n",
    "plt.gca().spines['right'].set_color('none')\n",
    "plt.gca().spines['left'].set_color('none')\n",
    "plt.yticks([])\n",
    "plt.ylabel('')\n",
    "plt.xlim(0, tmax);\n",
    "\n",
    "print('Firing rate {:.2f} Hz.').format(get_firing_rate(crt_res[-1],\n",
    "                                                       spiking_example_data['params']['tmax']))\n",
    "\n",
    "safe_save_fig('figs/spiking_simraster_realistic_adult', png=False)"
   ]
  },
  {
   "cell_type": "code",
   "execution_count": null,
   "metadata": {
    "collapsed": false
   },
   "outputs": [],
   "source": [
    "make_convergence_movie('figs/spiking_convergence_movie_small_tau.mov',\n",
    "                       spiking_example_data['res'], spiking_example_data['params']['target'],\n",
    "                       idxs=range(0, 600), length=12.0,\n",
    "                       ymax=80.0)"
   ]
  },
  {
   "cell_type": "markdown",
   "metadata": {
    "collapsed": true
   },
   "source": [
    "## Spiking example, constant inhibition, learning curve and raster plots"
   ]
  },
  {
   "cell_type": "code",
   "execution_count": null,
   "metadata": {
    "collapsed": false
   },
   "outputs": [],
   "source": [
    "with open('save/spiking_example_const_inh.pkl', 'rb') as inp:\n",
    "    spiking_example_data = pickle.load(inp)"
   ]
  },
  {
   "cell_type": "code",
   "execution_count": null,
   "metadata": {
    "collapsed": false
   },
   "outputs": [],
   "source": [
    "fig = plt.figure(figsize=(3, 2))\n",
    "axs = draw_convergence_plot(spiking_example_data['res'], plt.gca(), target_lw=2,\n",
    "                        inset=True, inset_pos=[0.4, 0.4, 0.4, 0.4],\n",
    "                        alpha=spiking_example_data['params']['plasticity_params'][0],\n",
    "                        beta=spiking_example_data['params']['plasticity_params'][1],\n",
    "                        tau_tutor=spiking_example_data['params']['tutor_rule_tau'],\n",
    "                        target=spiking_example_data['params']['target'])\n",
    "\n",
    "axs[0].set_ylim(0, 15);\n",
    "\n",
    "\n",
    "safe_save_fig('figs/spiking_example_const_inh_learning_curve', png=False)"
   ]
  },
  {
   "cell_type": "code",
   "execution_count": null,
   "metadata": {
    "collapsed": false
   },
   "outputs": [],
   "source": [
    "plt.figure(figsize=(3, 1))\n",
    "crt_res = spiking_example_data['res'][:5]\n",
    "show_repetition_pattern([_['student_spike'] for _ in crt_res], idx=[1, 47, 23, 65, 78], ms=1.0)\n",
    "plt.gca().spines['top'].set_color('none')\n",
    "plt.gca().spines['right'].set_color('none')\n",
    "plt.gca().spines['left'].set_color('none')\n",
    "plt.yticks([])\n",
    "plt.ylabel('')\n",
    "plt.xlim(0, tmax);\n",
    "\n",
    "print('Firing rate {:.2f} Hz.').format(get_firing_rate(crt_res[-1],\n",
    "                                                       spiking_example_data['params']['tmax']))"
   ]
  },
  {
   "cell_type": "code",
   "execution_count": null,
   "metadata": {
    "collapsed": false
   },
   "outputs": [],
   "source": [
    "plt.figure(figsize=(3, 1))\n",
    "crt_res = spiking_example_data['res'][-5:]\n",
    "show_repetition_pattern([_['student_spike'] for _ in crt_res], idx=[1, 47, 23, 65, 78], ms=1.0)\n",
    "plt.gca().spines['top'].set_color('none')\n",
    "plt.gca().spines['right'].set_color('none')\n",
    "plt.gca().spines['left'].set_color('none')\n",
    "plt.yticks([])\n",
    "plt.ylabel('')\n",
    "plt.xlim(0, tmax);\n",
    "\n",
    "print('Firing rate {:.2f} Hz.').format(get_firing_rate(crt_res[-1],\n",
    "                                                       spiking_example_data['params']['tmax']))"
   ]
  },
  {
   "cell_type": "code",
   "execution_count": null,
   "metadata": {
    "collapsed": false
   },
   "outputs": [],
   "source": [
    "make_convergence_movie('figs/spiking_convergence_movie_const_inh.mov',\n",
    "                       spiking_example_data['res'], spiking_example_data['params']['target'],\n",
    "                       idxs=range(0, 200), length=4.0,\n",
    "                       ymax=80.0)"
   ]
  },
  {
   "cell_type": "markdown",
   "metadata": {},
   "source": [
    "## Reinforcement example learning curves"
   ]
  },
  {
   "cell_type": "markdown",
   "metadata": {},
   "source": [
    "### Reinforcement learning curve, small tau"
   ]
  },
  {
   "cell_type": "code",
   "execution_count": null,
   "metadata": {
    "collapsed": false
   },
   "outputs": [],
   "source": [
    "with open('save/reinforcement_example_0ms.pkl', 'rb') as inp:\n",
    "    reinf_shorttau = pickle.load(inp)"
   ]
  },
  {
   "cell_type": "code",
   "execution_count": null,
   "metadata": {
    "collapsed": false
   },
   "outputs": [],
   "source": [
    "plt.imshow(reinf_shorttau['res'][7500]['weights'], aspect='auto', interpolation='nearest',\n",
    "           cmap='Blues', vmin=0, vmax=0.3)\n",
    "plt.colorbar()"
   ]
  },
  {
   "cell_type": "code",
   "execution_count": null,
   "metadata": {
    "collapsed": false
   },
   "outputs": [],
   "source": [
    "plot_evolution(reinf_shorttau['res'],\n",
    "               reinf_shorttau['args']['target'],\n",
    "               reinf_shorttau['args']['dt'])"
   ]
  },
  {
   "cell_type": "code",
   "execution_count": null,
   "metadata": {
    "collapsed": false
   },
   "outputs": [],
   "source": [
    "fig = plt.figure(figsize=(3, 2))\n",
    "axs = draw_convergence_plot(reinf_shorttau['res'][:-9], plt.gca(), target_lw=2,\n",
    "                      inset=True,\n",
    "                      alpha=reinf_shorttau['args']['plasticity_params'][0],\n",
    "                      beta=reinf_shorttau['args']['plasticity_params'][1],\n",
    "                      tau_tutor=reinf_shorttau['args']['tutor_rule_tau'],\n",
    "                      target=reinf_shorttau['args']['target'],\n",
    "                      inset_pos=[0.52, 0.45, 0.4, 0.4])\n",
    "\n",
    "axs[0].set_xticks(range(0, 8001, 2000))\n",
    "axs[0].set_ylim(0, 15);\n",
    "\n",
    "axs[1].set_yticks(range(0, 81, 20));\n",
    "\n",
    "safe_save_fig('figs/reinforcement_convergence_plot_small_tau', png=False)"
   ]
  },
  {
   "cell_type": "code",
   "execution_count": null,
   "metadata": {
    "collapsed": false
   },
   "outputs": [],
   "source": [
    "plt.figure(figsize=(3, 1))\n",
    "crt_res = reinf_shorttau['res'][:50:10]\n",
    "show_repetition_pattern([_['student_spike'] for _ in crt_res], idx=[1, 45, 75, 65, 57])\n",
    "plt.gca().spines['top'].set_color('none')\n",
    "plt.gca().spines['right'].set_color('none')\n",
    "plt.gca().spines['left'].set_color('none')\n",
    "plt.yticks([])\n",
    "plt.ylabel('')\n",
    "crt_tmax = reinf_shorttau['args']['tmax'];\n",
    "plt.xlim(0, crt_tmax);\n",
    "\n",
    "print('Firing rate {:.2f} Hz.').format(get_firing_rate(crt_res[-1], crt_tmax))\n",
    "\n",
    "safe_save_fig('figs/reinforcement_simraster_juvenile', png=False)"
   ]
  },
  {
   "cell_type": "code",
   "execution_count": null,
   "metadata": {
    "collapsed": false
   },
   "outputs": [],
   "source": [
    "plt.figure(figsize=(3, 1))\n",
    "crt_res = reinf_shorttau['res'][-50::10]\n",
    "show_repetition_pattern([_['student_spike'] for _ in crt_res], idx=[1, 45, 75, 65, 57])\n",
    "plt.gca().spines['top'].set_color('none')\n",
    "plt.gca().spines['right'].set_color('none')\n",
    "plt.gca().spines['left'].set_color('none')\n",
    "plt.yticks([])\n",
    "plt.ylabel('')\n",
    "crt_tmax = reinf_shorttau['args']['tmax'];\n",
    "plt.xlim(0, crt_tmax);\n",
    "\n",
    "print('Firing rate {:.2f} Hz.').format(get_firing_rate(crt_res[-1], crt_tmax))\n",
    "\n",
    "safe_save_fig('figs/reinforcement_simraster_adult', png=False)"
   ]
  },
  {
   "cell_type": "code",
   "execution_count": null,
   "metadata": {
    "collapsed": false
   },
   "outputs": [],
   "source": [
    "make_convergence_movie('figs/reinforcement_convergence_movie_small_tau.mov',\n",
    "                       reinf_shorttau['res'], reinf_shorttau['args']['target'],\n",
    "                       idxs=range(0, 10000), length=10.0,\n",
    "                       ymax=80.0)"
   ]
  },
  {
   "cell_type": "markdown",
   "metadata": {},
   "source": [
    "### Reinforcement learning curve, long tau"
   ]
  },
  {
   "cell_type": "code",
   "execution_count": null,
   "metadata": {
    "collapsed": true
   },
   "outputs": [],
   "source": [
    "with open('save/reinforcement_example_a10b9_440ms.pkl', 'rb') as inp:\n",
    "    reinf_longtau = pickle.load(inp)"
   ]
  },
  {
   "cell_type": "code",
   "execution_count": null,
   "metadata": {
    "collapsed": false
   },
   "outputs": [],
   "source": [
    "fig = plt.figure(figsize=(3, 2))\n",
    "axs = draw_convergence_plot(reinf_longtau['res'][:-9], plt.gca(), target_lw=2,\n",
    "                      inset=True,\n",
    "                      alpha=reinf_longtau['args']['plasticity_params'][0],\n",
    "                      beta=reinf_longtau['args']['plasticity_params'][1],\n",
    "                      tau_tutor=reinf_longtau['args']['tutor_rule_tau'],\n",
    "                      target=reinf_longtau['args']['target'],\n",
    "                      inset_pos=[0.5, 0.45, 0.4, 0.4])\n",
    "\n",
    "axs[0].set_xticks(range(0, 8001, 2000))\n",
    "axs[0].set_ylim(0, 15);\n",
    "\n",
    "axs[1].set_yticks(range(0, 81, 20));\n",
    "\n",
    "safe_save_fig('figs/reinforcement_convergence_plot_large_tau', png=False)"
   ]
  },
  {
   "cell_type": "code",
   "execution_count": null,
   "metadata": {
    "collapsed": false
   },
   "outputs": [],
   "source": [
    "plt.figure(figsize=(3, 1))\n",
    "crt_res = reinf_longtau['res'][:50:10]\n",
    "show_repetition_pattern([_['student_spike'] for _ in crt_res], idx=[3, 48, 19, 62, 78], ms=1.0)\n",
    "plt.gca().spines['top'].set_color('none')\n",
    "plt.gca().spines['right'].set_color('none')\n",
    "plt.gca().spines['left'].set_color('none')\n",
    "plt.yticks([])\n",
    "plt.ylabel('')\n",
    "crt_tmax = reinf_longtau['args']['tmax'];\n",
    "plt.xlim(0, crt_tmax);\n",
    "\n",
    "print('Firing rate {:.2f} Hz.').format(get_firing_rate(crt_res[-1], crt_tmax))"
   ]
  },
  {
   "cell_type": "code",
   "execution_count": null,
   "metadata": {
    "collapsed": false
   },
   "outputs": [],
   "source": [
    "plt.figure(figsize=(3, 1))\n",
    "crt_res = reinf_longtau['res'][-50::10]\n",
    "show_repetition_pattern([_['student_spike'] for _ in crt_res], idx=[3, 48, 19, 62, 78], ms=1.0)\n",
    "plt.gca().spines['top'].set_color('none')\n",
    "plt.gca().spines['right'].set_color('none')\n",
    "plt.gca().spines['left'].set_color('none')\n",
    "plt.yticks([])\n",
    "plt.ylabel('')\n",
    "crt_tmax = reinf_longtau['args']['tmax'];\n",
    "plt.xlim(0, crt_tmax);\n",
    "\n",
    "print('Firing rate {:.2f} Hz.').format(get_firing_rate(crt_res[-1], crt_tmax))"
   ]
  },
  {
   "cell_type": "code",
   "execution_count": null,
   "metadata": {
    "collapsed": false
   },
   "outputs": [],
   "source": [
    "make_convergence_movie('figs/reinforcement_convergence_movie_large_tau.mov',\n",
    "                       reinf_longtau['res'], reinf_longtau['args']['target'],\n",
    "                       idxs=range(0, 10000), length=10.0,\n",
    "                       ymax=80.0)"
   ]
  },
  {
   "cell_type": "markdown",
   "metadata": {},
   "source": [
    "## Reinforcement learning, evolution of synapse sparsity"
   ]
  },
  {
   "cell_type": "code",
   "execution_count": null,
   "metadata": {
    "collapsed": false
   },
   "outputs": [],
   "source": [
    "with open('save/reinforcement_example_0ms.pkl', 'rb') as inp:\n",
    "    reinf_shorttau = pickle.load(inp)"
   ]
  },
  {
   "cell_type": "code",
   "execution_count": null,
   "metadata": {
    "collapsed": true
   },
   "outputs": [],
   "source": [
    "motor_idxs = range(0, len(reinf_shorttau['res']), 50)\n",
    "weight_sparsity = [np.sum(reinf_shorttau['res'][_]['weights'] > 0.01)/\n",
    "                   (reinf_shorttau['args']['n_student_per_output']*len(reinf_shorttau['args']['target']))\n",
    "                   for _ in motor_idxs]"
   ]
  },
  {
   "cell_type": "code",
   "execution_count": null,
   "metadata": {
    "collapsed": false
   },
   "outputs": [],
   "source": [
    "plt.figure(figsize=(3, 2))\n",
    "plt.plot(motor_idxs, weight_sparsity, color=[0.200, 0.357, 0.400])\n",
    "plt.xlabel('repetitions')\n",
    "plt.ylabel('HVC inputs per RA neuron')\n",
    "plt.ylim(0, 200);\n",
    "plt.grid(True)\n",
    "safe_save_fig('figs/inputs_per_ra_evolution_reinf')"
   ]
  },
  {
   "cell_type": "code",
   "execution_count": null,
   "metadata": {
    "collapsed": true
   },
   "outputs": [],
   "source": []
  }
 ],
 "metadata": {
  "kernelspec": {
   "display_name": "Python 2",
   "language": "python",
   "name": "python2"
  },
  "language_info": {
   "codemirror_mode": {
    "name": "ipython",
    "version": 2
   },
   "file_extension": ".py",
   "mimetype": "text/x-python",
   "name": "python",
   "nbconvert_exporter": "python",
   "pygments_lexer": "ipython2",
   "version": "2.7.12"
  }
 },
 "nbformat": 4,
 "nbformat_minor": 0
}
