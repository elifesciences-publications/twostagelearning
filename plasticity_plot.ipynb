{
 "cells": [
  {
   "cell_type": "markdown",
   "metadata": {},
   "source": [
    "# Making the Mehaffey&Doupe-like plasticity plot"
   ]
  },
  {
   "cell_type": "code",
   "execution_count": null,
   "metadata": {
    "collapsed": true
   },
   "outputs": [],
   "source": [
    "%matplotlib inline\n",
    "import matplotlib.pyplot as plt\n",
    "import seaborn as sns\n",
    "sns.set_style('white')\n",
    "\n",
    "from matplotlib.ticker import AutoMinorLocator\n",
    "\n",
    "# comment out the next line if not working on a retina-display computer\n",
    "import IPython\n",
    "IPython.display.set_matplotlib_formats('retina')"
   ]
  },
  {
   "cell_type": "code",
   "execution_count": null,
   "metadata": {
    "collapsed": true
   },
   "outputs": [],
   "source": [
    "import numpy as np"
   ]
  },
  {
   "cell_type": "code",
   "execution_count": null,
   "metadata": {
    "collapsed": true
   },
   "outputs": [],
   "source": [
    "def single_spike_effect(lags, tau1=80.0, tau2=40.0):\n",
    "    \"\"\" Calculate weight change from single spikes with given lag(s). \"\"\"\n",
    "    lags = np.asarray(lags)\n",
    "    pos_mask = (lags >= 0)\n",
    "    neg_mask = np.logical_not(pos_mask)\n",
    "    \n",
    "    result = np.zeros(lags.shape)\n",
    "    result[pos_mask] = -np.exp(-lags[pos_mask]/40.0)/240.0\n",
    "    result[neg_mask] = np.exp(lags[neg_mask]/80.0)/120.0 - np.exp(lags[neg_mask]/40.0)/80.0\n",
    "    \n",
    "    return result"
   ]
  },
  {
   "cell_type": "code",
   "execution_count": null,
   "metadata": {
    "collapsed": false
   },
   "outputs": [],
   "source": [
    "lag_values = np.arange(-600.0, 600.0, 1.0)\n",
    "delta_w_values = 1 + 30.0*sum(single_spike_effect(lag_values + delta) for delta in range(0, 12, 2))"
   ]
  },
  {
   "cell_type": "code",
   "execution_count": null,
   "metadata": {
    "collapsed": false
   },
   "outputs": [],
   "source": [
    "plt.figure(figsize=(3.0, 2.41))\n",
    "\n",
    "plt.axhline(1, ls='--', color=[0.5, 0.5, 0.5], lw=1, dashes=[4, 1])\n",
    "plt.axvline(0, ls='--', color=[0.695, 0.695, 0.695], lw=1, dashes=[4, 1])\n",
    "\n",
    "plt.plot(lag_values, delta_w_values, 'k', lw=1)\n",
    "plt.ylim(0.2, 1.701)\n",
    "plt.xlim(-600, 600)\n",
    "\n",
    "ax = plt.gca()\n",
    "ax.spines['right'].set_color('none')\n",
    "ax.spines['top'].set_color('none')\n",
    "\n",
    "ax.spines['bottom'].set_linewidth(0.75)\n",
    "ax.spines['left'].set_linewidth(0.75)\n",
    "\n",
    "plt.minorticks_on()\n",
    "\n",
    "ax.xaxis.set_tick_params(direction='out', length=4, top='off', which='major', labelsize=8, width=0.75)\n",
    "ax.yaxis.set_tick_params(direction='out', length=4, right='off', which='major', labelsize=8, width=0.75)\n",
    "\n",
    "ax.xaxis.set_tick_params(direction='out', length=2.5, top='off', which='minor', width=0.75)\n",
    "ax.yaxis.set_tick_params(direction='out', length=2.5, right='off', which='minor', width=0.75)\n",
    "\n",
    "ax.xaxis.set_minor_locator(AutoMinorLocator(2))\n",
    "ax.yaxis.set_minor_locator(AutoMinorLocator(2))\n",
    "\n",
    "plt.xlabel('Lag (ms)', fontsize=8)\n",
    "plt.ylabel('Synaptic strength (normalized)', fontsize=8)\n",
    "\n",
    "plt.savefig('figs/simulated_mehaffey_plasticity.pdf', bbox_inches='tight')"
   ]
  }
 ],
 "metadata": {
  "kernelspec": {
   "display_name": "Python 2",
   "language": "python",
   "name": "python2"
  },
  "language_info": {
   "codemirror_mode": {
    "name": "ipython",
    "version": 2
   },
   "file_extension": ".py",
   "mimetype": "text/x-python",
   "name": "python",
   "nbconvert_exporter": "python",
   "pygments_lexer": "ipython2",
   "version": "2.7.12"
  }
 },
 "nbformat": 4,
 "nbformat_minor": 0
}
